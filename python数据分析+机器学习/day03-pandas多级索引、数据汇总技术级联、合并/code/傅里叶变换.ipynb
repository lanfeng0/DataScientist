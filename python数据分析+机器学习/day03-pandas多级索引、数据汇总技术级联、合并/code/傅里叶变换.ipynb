{
 "cells": [
  {
   "cell_type": "code",
   "execution_count": 2,
   "metadata": {},
   "outputs": [
    {
     "name": "stderr",
     "output_type": "stream",
     "text": [
      "D:\\software\\Anaconda3\\lib\\site-packages\\ipykernel_launcher.py:11: DeprecationWarning: The binary mode of fromstring is deprecated, as it behaves surprisingly on unicode inputs. Use frombuffer instead\n",
      "  # This is added back by InteractiveShellApp.init_path()\n"
     ]
    }
   ],
   "source": [
    "# http://blog.jobbole.com/70549/\n",
    "import numpy as np\n",
    "from PIL import Image\n",
    "from numpy.fft import fft,ifft\n",
    "\n",
    "def filterImage(srcImage):\n",
    "    #打开图像文件并获取数据\n",
    "    srcIm=Image.open(srcImage)\n",
    "#     读取图片到一个数组\n",
    "    srcArray=np.fromstring(srcIm.tobytes(),dtype=np.int8)\n",
    "    \n",
    "    #傅里叶变换并滤除低频信号\n",
    "    # 时域--》频域\n",
    "    result=fft(srcArray)\n",
    "#     滤波\n",
    "    result=np.where(np.absolute(result)<9e4,0,result)\n",
    "    \n",
    "    \n",
    "    #傅里叶反变换,保留实部\n",
    "#     频域--》时域\n",
    "    result=ifft(result)\n",
    "    \n",
    "#     取实属部分\n",
    "    result=np.int8(np.real(result))\n",
    "    \n",
    "    #转换为图像\n",
    "    im=Image.frombytes(srcIm.mode,srcIm.size,result)\n",
    "#     展示\n",
    "    im.show()\n",
    "    \n",
    "filterImage('u=1654020146,278800790&fm=173&app=25&f=JPG.jpeg')"
   ]
  },
  {
   "cell_type": "code",
   "execution_count": 12,
   "metadata": {},
   "outputs": [
    {
     "name": "stderr",
     "output_type": "stream",
     "text": [
      "D:\\software\\Anaconda3\\lib\\site-packages\\ipykernel_launcher.py:7: DeprecationWarning: The binary mode of fromstring is deprecated, as it behaves surprisingly on unicode inputs. Use frombuffer instead\n",
      "  import sys\n"
     ]
    }
   ],
   "source": [
    "import numpy as np\n",
    "from PIL import Image\n",
    "from numpy.fft import fft,ifft\n",
    "def filterImage(srcImage):\n",
    "    #打开图像文件并获取数据\n",
    "    srcIm=Image.open(srcImage)\n",
    "    srcArray=np.fromstring(srcIm.tobytes(),dtype=np.int8)\n",
    "    #傅里叶变换并滤除低频信号\n",
    "    result=fft(srcArray)\n",
    "    result=np.where(np.absolute(result)<9e4,0,result)\n",
    "    #傅里叶反变换,保留实部\n",
    "    result=ifft(result)\n",
    "    result=np.int8(np.real(result))\n",
    "    #转换为图像\n",
    "    im=Image.frombytes(srcIm.mode,srcIm.size,result)\n",
    "    im.show()\n",
    "filterImage('cat.jpg')"
   ]
  },
  {
   "cell_type": "code",
   "execution_count": null,
   "metadata": {},
   "outputs": [],
   "source": []
  }
 ],
 "metadata": {
  "kernelspec": {
   "display_name": "Python 3",
   "language": "python",
   "name": "python3"
  },
  "language_info": {
   "codemirror_mode": {
    "name": "ipython",
    "version": 3
   },
   "file_extension": ".py",
   "mimetype": "text/x-python",
   "name": "python",
   "nbconvert_exporter": "python",
   "pygments_lexer": "ipython3",
   "version": "3.7.0"
  }
 },
 "nbformat": 4,
 "nbformat_minor": 2
}
