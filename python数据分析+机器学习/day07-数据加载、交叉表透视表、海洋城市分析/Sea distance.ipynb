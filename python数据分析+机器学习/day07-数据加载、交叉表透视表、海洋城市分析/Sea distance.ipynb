{
 "cells": [
  {
   "cell_type": "markdown",
   "metadata": {},
   "source": [
    "# 城市气候与海洋的关系研究"
   ]
  },
  {
   "cell_type": "markdown",
   "metadata": {},
   "source": [
    "导入包"
   ]
  },
  {
   "cell_type": "code",
   "execution_count": 1,
   "metadata": {},
   "outputs": [],
   "source": [
    "import numpy as np\n",
    "import pandas as pd\n",
    "from pandas import Series,DataFrame\n",
    "import matplotlib.pyplot as plt\n",
    "%matplotlib inline"
   ]
  },
  {
   "cell_type": "markdown",
   "metadata": {},
   "source": [
    "导入数据各个海滨城市数据"
   ]
  },
  {
   "cell_type": "code",
   "execution_count": 2,
   "metadata": {},
   "outputs": [],
   "source": [
    "ferrara1 = pd.read_csv('./ferrara_150715.csv')\n",
    "ferrara2 = pd.read_csv('./ferrara_250715.csv')\n",
    "ferrara3 = pd.read_csv('./ferrara_270615.csv')\n",
    "ferrara = pd.concat([ferrara1,ferrara2,ferrara3],ignore_index=True) "
   ]
  },
  {
   "cell_type": "code",
   "execution_count": 4,
   "metadata": {},
   "outputs": [],
   "source": [
    "torino1 = pd.read_csv('./torino_150715.csv')\n",
    "torino2 = pd.read_csv('./torino_250715.csv')\n",
    "torino3 = pd.read_csv('./torino_270615.csv')\n",
    "torino = pd.concat([torino1,torino2,torino3],ignore_index=True) "
   ]
  },
  {
   "cell_type": "code",
   "execution_count": 5,
   "metadata": {},
   "outputs": [],
   "source": [
    "mantova1 = pd.read_csv('./mantova_150715.csv')\n",
    "mantova2 = pd.read_csv('./mantova_250715.csv')\n",
    "mantova3 = pd.read_csv('./mantova_270615.csv')\n",
    "mantova = pd.concat([mantova1,mantova2,mantova3],ignore_index=True) "
   ]
  },
  {
   "cell_type": "code",
   "execution_count": 6,
   "metadata": {},
   "outputs": [],
   "source": [
    "milano1 = pd.read_csv('./milano_150715.csv')\n",
    "milano2 = pd.read_csv('./milano_250715.csv')\n",
    "milano3 = pd.read_csv('./milano_270615.csv')\n",
    "milano = pd.concat([milano1,milano2,milano3],ignore_index=True) "
   ]
  },
  {
   "cell_type": "code",
   "execution_count": 7,
   "metadata": {},
   "outputs": [],
   "source": [
    "ravenna1 = pd.read_csv('./ravenna_150715.csv')\n",
    "ravenna2 = pd.read_csv('./ravenna_250715.csv')\n",
    "ravenna3 = pd.read_csv('./ravenna_270615.csv')\n",
    "ravenna = pd.concat([ravenna1,ravenna2,ravenna3],ignore_index=True)"
   ]
  },
  {
   "cell_type": "code",
   "execution_count": 8,
   "metadata": {},
   "outputs": [],
   "source": [
    "asti1 = pd.read_csv('./asti_150715.csv')\n",
    "asti2 = pd.read_csv('./asti_250715.csv')\n",
    "asti3 = pd.read_csv('./asti_270615.csv')\n",
    "asti = pd.concat([asti1,asti2,asti3],ignore_index=True)"
   ]
  },
  {
   "cell_type": "code",
   "execution_count": 9,
   "metadata": {},
   "outputs": [],
   "source": [
    "bologna1 = pd.read_csv('./bologna_150715.csv')\n",
    "bologna2 = pd.read_csv('./bologna_250715.csv')\n",
    "bologna3 = pd.read_csv('./bologna_270615.csv')\n",
    "bologna = pd.concat([bologna1,bologna2,bologna3],ignore_index=True)"
   ]
  },
  {
   "cell_type": "code",
   "execution_count": 10,
   "metadata": {},
   "outputs": [],
   "source": [
    "piacenza1 = pd.read_csv('./piacenza_150715.csv')\n",
    "piacenza2 = pd.read_csv('./piacenza_250715.csv')\n",
    "piacenza3 = pd.read_csv('./piacenza_270615.csv')\n",
    "piacenza = pd.concat([piacenza1,piacenza2,piacenza3],ignore_index=True)"
   ]
  },
  {
   "cell_type": "code",
   "execution_count": 11,
   "metadata": {},
   "outputs": [],
   "source": [
    "cesena1 = pd.read_csv('./cesena_150715.csv')\n",
    "cesena2 = pd.read_csv('./cesena_250715.csv')\n",
    "cesena3 = pd.read_csv('./cesena_270615.csv')\n",
    "cesena = pd.concat([cesena1,cesena2,cesena3],ignore_index=True)"
   ]
  },
  {
   "cell_type": "code",
   "execution_count": 12,
   "metadata": {},
   "outputs": [
    {
     "data": {
      "text/html": [
       "<div>\n",
       "<style scoped>\n",
       "    .dataframe tbody tr th:only-of-type {\n",
       "        vertical-align: middle;\n",
       "    }\n",
       "\n",
       "    .dataframe tbody tr th {\n",
       "        vertical-align: top;\n",
       "    }\n",
       "\n",
       "    .dataframe thead th {\n",
       "        text-align: right;\n",
       "    }\n",
       "</style>\n",
       "<table border=\"1\" class=\"dataframe\">\n",
       "  <thead>\n",
       "    <tr style=\"text-align: right;\">\n",
       "      <th></th>\n",
       "      <th>Unnamed: 0</th>\n",
       "      <th>temp</th>\n",
       "      <th>humidity</th>\n",
       "      <th>pressure</th>\n",
       "      <th>description</th>\n",
       "      <th>dt</th>\n",
       "      <th>wind_speed</th>\n",
       "      <th>wind_deg</th>\n",
       "      <th>city</th>\n",
       "      <th>day</th>\n",
       "      <th>dist</th>\n",
       "    </tr>\n",
       "  </thead>\n",
       "  <tbody>\n",
       "    <tr>\n",
       "      <th>0</th>\n",
       "      <td>0</td>\n",
       "      <td>29.40</td>\n",
       "      <td>83</td>\n",
       "      <td>1015</td>\n",
       "      <td>moderate rain</td>\n",
       "      <td>1436863177</td>\n",
       "      <td>3.62</td>\n",
       "      <td>94.001</td>\n",
       "      <td>Faenza</td>\n",
       "      <td>2015-07-14 10:39:37</td>\n",
       "      <td>37</td>\n",
       "    </tr>\n",
       "    <tr>\n",
       "      <th>1</th>\n",
       "      <td>1</td>\n",
       "      <td>30.12</td>\n",
       "      <td>78</td>\n",
       "      <td>1015</td>\n",
       "      <td>moderate rain</td>\n",
       "      <td>1436866759</td>\n",
       "      <td>3.10</td>\n",
       "      <td>80.000</td>\n",
       "      <td>Faenza</td>\n",
       "      <td>2015-07-14 11:39:19</td>\n",
       "      <td>37</td>\n",
       "    </tr>\n",
       "    <tr>\n",
       "      <th>2</th>\n",
       "      <td>2</td>\n",
       "      <td>30.10</td>\n",
       "      <td>78</td>\n",
       "      <td>1015</td>\n",
       "      <td>moderate rain</td>\n",
       "      <td>1436870510</td>\n",
       "      <td>3.60</td>\n",
       "      <td>70.000</td>\n",
       "      <td>Faenza</td>\n",
       "      <td>2015-07-14 12:41:50</td>\n",
       "      <td>37</td>\n",
       "    </tr>\n",
       "    <tr>\n",
       "      <th>3</th>\n",
       "      <td>3</td>\n",
       "      <td>30.75</td>\n",
       "      <td>74</td>\n",
       "      <td>1015</td>\n",
       "      <td>moderate rain</td>\n",
       "      <td>1436874099</td>\n",
       "      <td>4.60</td>\n",
       "      <td>90.000</td>\n",
       "      <td>Faenza</td>\n",
       "      <td>2015-07-14 13:41:39</td>\n",
       "      <td>37</td>\n",
       "    </tr>\n",
       "    <tr>\n",
       "      <th>4</th>\n",
       "      <td>4</td>\n",
       "      <td>30.71</td>\n",
       "      <td>66</td>\n",
       "      <td>1015</td>\n",
       "      <td>moderate rain</td>\n",
       "      <td>1436877646</td>\n",
       "      <td>5.10</td>\n",
       "      <td>100.000</td>\n",
       "      <td>Faenza</td>\n",
       "      <td>2015-07-14 14:40:46</td>\n",
       "      <td>37</td>\n",
       "    </tr>\n",
       "  </tbody>\n",
       "</table>\n",
       "</div>"
      ],
      "text/plain": [
       "   Unnamed: 0   temp  humidity  pressure    description          dt  \\\n",
       "0           0  29.40        83      1015  moderate rain  1436863177   \n",
       "1           1  30.12        78      1015  moderate rain  1436866759   \n",
       "2           2  30.10        78      1015  moderate rain  1436870510   \n",
       "3           3  30.75        74      1015  moderate rain  1436874099   \n",
       "4           4  30.71        66      1015  moderate rain  1436877646   \n",
       "\n",
       "   wind_speed  wind_deg    city                  day  dist  \n",
       "0        3.62    94.001  Faenza  2015-07-14 10:39:37    37  \n",
       "1        3.10    80.000  Faenza  2015-07-14 11:39:19    37  \n",
       "2        3.60    70.000  Faenza  2015-07-14 12:41:50    37  \n",
       "3        4.60    90.000  Faenza  2015-07-14 13:41:39    37  \n",
       "4        5.10   100.000  Faenza  2015-07-14 14:40:46    37  "
      ]
     },
     "execution_count": 12,
     "metadata": {},
     "output_type": "execute_result"
    }
   ],
   "source": [
    "faenza1 = pd.read_csv('./faenza_150715.csv')\n",
    "faenza2 = pd.read_csv('./faenza_250715.csv')\n",
    "faenza3 = pd.read_csv('./faenza_270615.csv')\n",
    "faenza = pd.concat([faenza1,faenza2,faenza3],ignore_index=True)\n",
    "faenza.head()"
   ]
  },
  {
   "cell_type": "markdown",
   "metadata": {},
   "source": [
    "查看列数"
   ]
  },
  {
   "cell_type": "markdown",
   "metadata": {},
   "source": [
    "去除没用的列"
   ]
  },
  {
   "cell_type": "code",
   "execution_count": 15,
   "metadata": {
    "collapsed": true
   },
   "outputs": [
    {
     "ename": "ValueError",
     "evalue": "labels ['Unnamed: 0'] not contained in axis",
     "output_type": "error",
     "traceback": [
      "\u001b[1;31m---------------------------------------------------------------------------\u001b[0m",
      "\u001b[1;31mValueError\u001b[0m                                Traceback (most recent call last)",
      "\u001b[1;32m<ipython-input-15-43f3f9eab795>\u001b[0m in \u001b[0;36m<module>\u001b[1;34m()\u001b[0m\n\u001b[0;32m      7\u001b[0m \u001b[0mbologna\u001b[0m\u001b[1;33m.\u001b[0m\u001b[0mdrop\u001b[0m\u001b[1;33m(\u001b[0m\u001b[1;34m'Unnamed: 0'\u001b[0m\u001b[1;33m,\u001b[0m\u001b[0maxis\u001b[0m\u001b[1;33m=\u001b[0m\u001b[1;36m1\u001b[0m\u001b[1;33m,\u001b[0m\u001b[0minplace\u001b[0m\u001b[1;33m=\u001b[0m\u001b[1;32mTrue\u001b[0m\u001b[1;33m)\u001b[0m\u001b[1;33m\u001b[0m\u001b[0m\n\u001b[0;32m      8\u001b[0m \u001b[0mpiacenza\u001b[0m\u001b[1;33m.\u001b[0m\u001b[0mdrop\u001b[0m\u001b[1;33m(\u001b[0m\u001b[1;34m'Unnamed: 0'\u001b[0m\u001b[1;33m,\u001b[0m\u001b[0maxis\u001b[0m\u001b[1;33m=\u001b[0m\u001b[1;36m1\u001b[0m\u001b[1;33m,\u001b[0m\u001b[0minplace\u001b[0m\u001b[1;33m=\u001b[0m\u001b[1;32mTrue\u001b[0m\u001b[1;33m)\u001b[0m\u001b[1;33m\u001b[0m\u001b[0m\n\u001b[1;32m----> 9\u001b[1;33m \u001b[0mfaenza\u001b[0m\u001b[1;33m.\u001b[0m\u001b[0mdrop\u001b[0m\u001b[1;33m(\u001b[0m\u001b[1;34m'Unnamed: 0'\u001b[0m\u001b[1;33m,\u001b[0m\u001b[0maxis\u001b[0m\u001b[1;33m=\u001b[0m\u001b[1;36m1\u001b[0m\u001b[1;33m,\u001b[0m\u001b[0minplace\u001b[0m\u001b[1;33m=\u001b[0m\u001b[1;32mTrue\u001b[0m\u001b[1;33m)\u001b[0m\u001b[1;33m\u001b[0m\u001b[0m\n\u001b[0m",
      "\u001b[1;32md:\\python3.6\\lib\\site-packages\\pandas\\core\\generic.py\u001b[0m in \u001b[0;36mdrop\u001b[1;34m(self, labels, axis, index, columns, level, inplace, errors)\u001b[0m\n\u001b[0;32m   2528\u001b[0m         \u001b[1;32mfor\u001b[0m \u001b[0maxis\u001b[0m\u001b[1;33m,\u001b[0m \u001b[0mlabels\u001b[0m \u001b[1;32min\u001b[0m \u001b[0maxes\u001b[0m\u001b[1;33m.\u001b[0m\u001b[0mitems\u001b[0m\u001b[1;33m(\u001b[0m\u001b[1;33m)\u001b[0m\u001b[1;33m:\u001b[0m\u001b[1;33m\u001b[0m\u001b[0m\n\u001b[0;32m   2529\u001b[0m             \u001b[1;32mif\u001b[0m \u001b[0mlabels\u001b[0m \u001b[1;32mis\u001b[0m \u001b[1;32mnot\u001b[0m \u001b[1;32mNone\u001b[0m\u001b[1;33m:\u001b[0m\u001b[1;33m\u001b[0m\u001b[0m\n\u001b[1;32m-> 2530\u001b[1;33m                 \u001b[0mobj\u001b[0m \u001b[1;33m=\u001b[0m \u001b[0mobj\u001b[0m\u001b[1;33m.\u001b[0m\u001b[0m_drop_axis\u001b[0m\u001b[1;33m(\u001b[0m\u001b[0mlabels\u001b[0m\u001b[1;33m,\u001b[0m \u001b[0maxis\u001b[0m\u001b[1;33m,\u001b[0m \u001b[0mlevel\u001b[0m\u001b[1;33m=\u001b[0m\u001b[0mlevel\u001b[0m\u001b[1;33m,\u001b[0m \u001b[0merrors\u001b[0m\u001b[1;33m=\u001b[0m\u001b[0merrors\u001b[0m\u001b[1;33m)\u001b[0m\u001b[1;33m\u001b[0m\u001b[0m\n\u001b[0m\u001b[0;32m   2531\u001b[0m \u001b[1;33m\u001b[0m\u001b[0m\n\u001b[0;32m   2532\u001b[0m         \u001b[1;32mif\u001b[0m \u001b[0minplace\u001b[0m\u001b[1;33m:\u001b[0m\u001b[1;33m\u001b[0m\u001b[0m\n",
      "\u001b[1;32md:\\python3.6\\lib\\site-packages\\pandas\\core\\generic.py\u001b[0m in \u001b[0;36m_drop_axis\u001b[1;34m(self, labels, axis, level, errors)\u001b[0m\n\u001b[0;32m   2560\u001b[0m                 \u001b[0mnew_axis\u001b[0m \u001b[1;33m=\u001b[0m \u001b[0maxis\u001b[0m\u001b[1;33m.\u001b[0m\u001b[0mdrop\u001b[0m\u001b[1;33m(\u001b[0m\u001b[0mlabels\u001b[0m\u001b[1;33m,\u001b[0m \u001b[0mlevel\u001b[0m\u001b[1;33m=\u001b[0m\u001b[0mlevel\u001b[0m\u001b[1;33m,\u001b[0m \u001b[0merrors\u001b[0m\u001b[1;33m=\u001b[0m\u001b[0merrors\u001b[0m\u001b[1;33m)\u001b[0m\u001b[1;33m\u001b[0m\u001b[0m\n\u001b[0;32m   2561\u001b[0m             \u001b[1;32melse\u001b[0m\u001b[1;33m:\u001b[0m\u001b[1;33m\u001b[0m\u001b[0m\n\u001b[1;32m-> 2562\u001b[1;33m                 \u001b[0mnew_axis\u001b[0m \u001b[1;33m=\u001b[0m \u001b[0maxis\u001b[0m\u001b[1;33m.\u001b[0m\u001b[0mdrop\u001b[0m\u001b[1;33m(\u001b[0m\u001b[0mlabels\u001b[0m\u001b[1;33m,\u001b[0m \u001b[0merrors\u001b[0m\u001b[1;33m=\u001b[0m\u001b[0merrors\u001b[0m\u001b[1;33m)\u001b[0m\u001b[1;33m\u001b[0m\u001b[0m\n\u001b[0m\u001b[0;32m   2563\u001b[0m             \u001b[0mdropped\u001b[0m \u001b[1;33m=\u001b[0m \u001b[0mself\u001b[0m\u001b[1;33m.\u001b[0m\u001b[0mreindex\u001b[0m\u001b[1;33m(\u001b[0m\u001b[1;33m**\u001b[0m\u001b[1;33m{\u001b[0m\u001b[0maxis_name\u001b[0m\u001b[1;33m:\u001b[0m \u001b[0mnew_axis\u001b[0m\u001b[1;33m}\u001b[0m\u001b[1;33m)\u001b[0m\u001b[1;33m\u001b[0m\u001b[0m\n\u001b[0;32m   2564\u001b[0m             \u001b[1;32mtry\u001b[0m\u001b[1;33m:\u001b[0m\u001b[1;33m\u001b[0m\u001b[0m\n",
      "\u001b[1;32md:\\python3.6\\lib\\site-packages\\pandas\\core\\indexes\\base.py\u001b[0m in \u001b[0;36mdrop\u001b[1;34m(self, labels, errors)\u001b[0m\n\u001b[0;32m   3739\u001b[0m             \u001b[1;32mif\u001b[0m \u001b[0merrors\u001b[0m \u001b[1;33m!=\u001b[0m \u001b[1;34m'ignore'\u001b[0m\u001b[1;33m:\u001b[0m\u001b[1;33m\u001b[0m\u001b[0m\n\u001b[0;32m   3740\u001b[0m                 raise ValueError('labels %s not contained in axis' %\n\u001b[1;32m-> 3741\u001b[1;33m                                  labels[mask])\n\u001b[0m\u001b[0;32m   3742\u001b[0m             \u001b[0mindexer\u001b[0m \u001b[1;33m=\u001b[0m \u001b[0mindexer\u001b[0m\u001b[1;33m[\u001b[0m\u001b[1;33m~\u001b[0m\u001b[0mmask\u001b[0m\u001b[1;33m]\u001b[0m\u001b[1;33m\u001b[0m\u001b[0m\n\u001b[0;32m   3743\u001b[0m         \u001b[1;32mreturn\u001b[0m \u001b[0mself\u001b[0m\u001b[1;33m.\u001b[0m\u001b[0mdelete\u001b[0m\u001b[1;33m(\u001b[0m\u001b[0mindexer\u001b[0m\u001b[1;33m)\u001b[0m\u001b[1;33m\u001b[0m\u001b[0m\n",
      "\u001b[1;31mValueError\u001b[0m: labels ['Unnamed: 0'] not contained in axis"
     ]
    }
   ],
   "source": [
    "ferrara.drop('Unnamed: 0',axis=1,inplace=True)\n",
    "torino.drop('Unnamed: 0',axis=1,inplace=True)\n",
    "mantova.drop('Unnamed: 0',axis=1,inplace=True)\n",
    "milano.drop('Unnamed: 0',axis=1,inplace=True)\n",
    "ravenna.drop('Unnamed: 0',axis=1,inplace=True)\n",
    "asti.drop('Unnamed: 0',axis=1,inplace=True)\n",
    "bologna.drop('Unnamed: 0',axis=1,inplace=True)\n",
    "piacenza.drop('Unnamed: 0',axis=1,inplace=True)\n",
    "faenza.drop('Unnamed: 0',axis=1,inplace=True)"
   ]
  },
  {
   "cell_type": "markdown",
   "metadata": {},
   "source": [
    "显示最高温度与离海远近的关系"
   ]
  },
  {
   "cell_type": "code",
   "execution_count": 20,
   "metadata": {
    "collapsed": true
   },
   "outputs": [
    {
     "data": {
      "text/plain": [
       "0     37\n",
       "1     37\n",
       "2     37\n",
       "3     37\n",
       "4     37\n",
       "5     37\n",
       "6     37\n",
       "7     37\n",
       "8     37\n",
       "9     37\n",
       "10    37\n",
       "11    37\n",
       "12    37\n",
       "13    37\n",
       "14    37\n",
       "15    37\n",
       "16    37\n",
       "17    37\n",
       "18    37\n",
       "19    37\n",
       "20    37\n",
       "21    37\n",
       "22    37\n",
       "23    37\n",
       "24    37\n",
       "25    37\n",
       "26    37\n",
       "27    37\n",
       "28    37\n",
       "29    37\n",
       "      ..\n",
       "37    37\n",
       "38    37\n",
       "39    37\n",
       "40    37\n",
       "41    37\n",
       "42    37\n",
       "43    37\n",
       "44    37\n",
       "45    37\n",
       "46    37\n",
       "47    37\n",
       "48    37\n",
       "49    37\n",
       "50    37\n",
       "51    37\n",
       "52    37\n",
       "53    37\n",
       "54    37\n",
       "55    37\n",
       "56    37\n",
       "57    37\n",
       "58    37\n",
       "59    37\n",
       "60    37\n",
       "61    37\n",
       "62    37\n",
       "63    37\n",
       "64    37\n",
       "65    37\n",
       "66    37\n",
       "Name: dist, Length: 67, dtype: int64"
      ]
     },
     "execution_count": 20,
     "metadata": {},
     "output_type": "execute_result"
    }
   ],
   "source": [
    "faenza.dist"
   ]
  },
  {
   "cell_type": "code",
   "execution_count": 34,
   "metadata": {},
   "outputs": [],
   "source": [
    "city_list = [ferrara,torino,mantova,milano,ravenna,asti,bologna,piacenza,faenza]"
   ]
  },
  {
   "cell_type": "code",
   "execution_count": 28,
   "metadata": {},
   "outputs": [
    {
     "data": {
      "text/plain": [
       "[47, 357, 121, 250, 8, 315, 71, 200, 37]"
      ]
     },
     "execution_count": 28,
     "metadata": {},
     "output_type": "execute_result"
    }
   ],
   "source": [
    "dist = [city['dist'][0] for city in city_list]\n",
    "dist"
   ]
  },
  {
   "cell_type": "code",
   "execution_count": 29,
   "metadata": {
    "collapsed": true
   },
   "outputs": [
    {
     "data": {
      "text/plain": [
       "[33.43000000000001,\n",
       " 34.69,\n",
       " 34.18000000000001,\n",
       " 34.81,\n",
       " 32.79000000000002,\n",
       " 34.31,\n",
       " 33.850000000000016,\n",
       " 33.920000000000016,\n",
       " 32.74000000000001]"
      ]
     },
     "execution_count": 29,
     "metadata": {},
     "output_type": "execute_result"
    }
   ],
   "source": [
    "max_temp = [city['temp'].max() for city in city_list]\n",
    "max_temp"
   ]
  },
  {
   "cell_type": "code",
   "execution_count": 30,
   "metadata": {},
   "outputs": [
    {
     "data": {
      "text/plain": [
       "<matplotlib.collections.PathCollection at 0x13ad1c30>"
      ]
     },
     "execution_count": 30,
     "metadata": {},
     "output_type": "execute_result"
    },
    {
     "data": {
      "image/png": "[encoded data removed]",
      "text/plain": [
       "<matplotlib.figure.Figure at 0x13adffb0>"
      ]
     },
     "metadata": {},
     "output_type": "display_data"
    }
   ],
   "source": [
    "x = np.array(dist)\n",
    "y = np.array(max_temp)\n",
    "\n",
    "plt.scatter(x,y)"
   ]
  },
  {
   "cell_type": "markdown",
   "metadata": {},
   "source": [
    "观察发现，离海近的可以形成一条直线，离海远的也能形成一条直线。\n",
    "\n",
    "首先使用numpy：把列表转换为numpy数组，用于后续计算。\n",
    "\n",
    "分别以100公里和50公里为分界点，划分为离海近和离海远的两组数据"
   ]
  },
  {
   "cell_type": "code",
   "execution_count": 44,
   "metadata": {},
   "outputs": [],
   "source": [
    "max_temp = np.array(max_temp)"
   ]
  },
  {
   "cell_type": "code",
   "execution_count": 40,
   "metadata": {},
   "outputs": [],
   "source": [
    "dist = np.array(dist)"
   ]
  },
  {
   "cell_type": "code",
   "execution_count": 41,
   "metadata": {},
   "outputs": [
    {
     "data": {
      "text/plain": [
       "array([ 47, 357, 121, 250,   8, 315,  71, 200,  37], dtype=int64)"
      ]
     },
     "execution_count": 41,
     "metadata": {},
     "output_type": "execute_result"
    }
   ],
   "source": [
    "dist"
   ]
  },
  {
   "cell_type": "code",
   "execution_count": 43,
   "metadata": {},
   "outputs": [],
   "source": [
    "far_city = dist>50\n",
    "near_city = dist<100"
   ]
  },
  {
   "cell_type": "code",
   "execution_count": 45,
   "metadata": {},
   "outputs": [],
   "source": [
    "near_dist = dist[near_city]\n",
    "near_temp = max_temp[near_city]\n",
    "\n",
    "far_dist = dist[far_city]\n",
    "far_temp = max_temp[far_city]"
   ]
  },
  {
   "cell_type": "code",
   "execution_count": 46,
   "metadata": {
    "scrolled": true
   },
   "outputs": [
    {
     "data": {
      "text/plain": [
       "array([47,  8, 71, 37], dtype=int64)"
      ]
     },
     "metadata": {},
     "output_type": "display_data"
    },
    {
     "data": {
      "text/plain": [
       "array([33.43, 32.79, 33.85, 32.74])"
      ]
     },
     "metadata": {},
     "output_type": "display_data"
    },
    {
     "data": {
      "text/plain": [
       "array([357, 121, 250, 315,  71, 200], dtype=int64)"
      ]
     },
     "metadata": {},
     "output_type": "display_data"
    },
    {
     "data": {
      "text/plain": [
       "array([34.69, 34.18, 34.81, 34.31, 33.85, 33.92])"
      ]
     },
     "metadata": {},
     "output_type": "display_data"
    }
   ],
   "source": [
    "display(near_dist,near_temp)\n",
    "display(far_dist,far_temp)"
   ]
  },
  {
   "cell_type": "code",
   "execution_count": 51,
   "metadata": {},
   "outputs": [
    {
     "data": {
      "text/plain": [
       "<matplotlib.collections.PathCollection at 0x1386cd70>"
      ]
     },
     "execution_count": 51,
     "metadata": {},
     "output_type": "execute_result"
    },
    {
     "data": {
      "image/png": "[encoded data removed]",
      "text/plain": [
       "<matplotlib.figure.Figure at 0x13a9db90>"
      ]
     },
     "metadata": {},
     "output_type": "display_data"
    }
   ],
   "source": [
    "\n",
    "plt.scatter(far_dist,far_temp,color='red')\n",
    "plt.scatter(near_dist,near_temp,color='green')"
   ]
  },
  {
   "cell_type": "markdown",
   "metadata": {},
   "source": [
    "使用支持向量机计算回归参数"
   ]
  },
  {
   "cell_type": "code",
   "execution_count": 52,
   "metadata": {},
   "outputs": [],
   "source": [
    "# 机器学习 线性回归模型\n",
    "# scikit-learn\n",
    "from sklearn.linear_model import LinearRegression"
   ]
  },
  {
   "cell_type": "markdown",
   "metadata": {},
   "source": [
    "查看最低温度与海洋距离的关系"
   ]
  },
  {
   "cell_type": "code",
   "execution_count": 53,
   "metadata": {},
   "outputs": [],
   "source": [
    "# 相当于假设一种函数关系 \n",
    "# f(x) = wx+b\n",
    "# x**2 + y**2 = R\n",
    "linear = LinearRegression()\n",
    "# 优化算法，找到最优解（误差最小的函数表达）"
   ]
  },
  {
   "cell_type": "code",
   "execution_count": null,
   "metadata": {},
   "outputs": [],
   "source": [
    "# 训练模型\n",
    "# 距离可以认为是自变量 \n",
    "# 温度认为是因变量"
   ]
  },
  {
   "cell_type": "code",
   "execution_count": 55,
   "metadata": {},
   "outputs": [
    {
     "data": {
      "text/plain": [
       "LinearRegression(copy_X=True, fit_intercept=True, n_jobs=1, normalize=False)"
      ]
     },
     "execution_count": 55,
     "metadata": {},
     "output_type": "execute_result"
    }
   ],
   "source": [
    "# 一个被训练过的模型，就是一个预测函数表达式f(x) = wx+b\n",
    "linear.fit(near_dist.reshape(-1,1),near_temp)"
   ]
  },
  {
   "cell_type": "code",
   "execution_count": 64,
   "metadata": {},
   "outputs": [
    {
     "data": {
      "text/plain": [
       "array([33.73987015, 33.04706235, 33.10035526, 33.47340561])"
      ]
     },
     "execution_count": 64,
     "metadata": {},
     "output_type": "execute_result"
    }
   ],
   "source": [
    "# 预测  利用估计函数进行求解\n",
    "linear.predict([[71],[32],[35],[56]])"
   ]
  },
  {
   "cell_type": "code",
   "execution_count": 66,
   "metadata": {
    "collapsed": true
   },
   "outputs": [
    {
     "data": {
      "text/plain": [
       "array([[ 8.        ],\n",
       "       [ 8.73737374],\n",
       "       [ 9.47474747],\n",
       "       [10.21212121],\n",
       "       [10.94949495],\n",
       "       [11.68686869],\n",
       "       [12.42424242],\n",
       "       [13.16161616],\n",
       "       [13.8989899 ],\n",
       "       [14.63636364],\n",
       "       [15.37373737],\n",
       "       [16.11111111],\n",
       "       [16.84848485],\n",
       "       [17.58585859],\n",
       "       [18.32323232],\n",
       "       [19.06060606],\n",
       "       [19.7979798 ],\n",
       "       [20.53535354],\n",
       "       [21.27272727],\n",
       "       [22.01010101],\n",
       "       [22.74747475],\n",
       "       [23.48484848],\n",
       "       [24.22222222],\n",
       "       [24.95959596],\n",
       "       [25.6969697 ],\n",
       "       [26.43434343],\n",
       "       [27.17171717],\n",
       "       [27.90909091],\n",
       "       [28.64646465],\n",
       "       [29.38383838],\n",
       "       [30.12121212],\n",
       "       [30.85858586],\n",
       "       [31.5959596 ],\n",
       "       [32.33333333],\n",
       "       [33.07070707],\n",
       "       [33.80808081],\n",
       "       [34.54545455],\n",
       "       [35.28282828],\n",
       "       [36.02020202],\n",
       "       [36.75757576],\n",
       "       [37.49494949],\n",
       "       [38.23232323],\n",
       "       [38.96969697],\n",
       "       [39.70707071],\n",
       "       [40.44444444],\n",
       "       [41.18181818],\n",
       "       [41.91919192],\n",
       "       [42.65656566],\n",
       "       [43.39393939],\n",
       "       [44.13131313],\n",
       "       [44.86868687],\n",
       "       [45.60606061],\n",
       "       [46.34343434],\n",
       "       [47.08080808],\n",
       "       [47.81818182],\n",
       "       [48.55555556],\n",
       "       [49.29292929],\n",
       "       [50.03030303],\n",
       "       [50.76767677],\n",
       "       [51.50505051],\n",
       "       [52.24242424],\n",
       "       [52.97979798],\n",
       "       [53.71717172],\n",
       "       [54.45454545],\n",
       "       [55.19191919],\n",
       "       [55.92929293],\n",
       "       [56.66666667],\n",
       "       [57.4040404 ],\n",
       "       [58.14141414],\n",
       "       [58.87878788],\n",
       "       [59.61616162],\n",
       "       [60.35353535],\n",
       "       [61.09090909],\n",
       "       [61.82828283],\n",
       "       [62.56565657],\n",
       "       [63.3030303 ],\n",
       "       [64.04040404],\n",
       "       [64.77777778],\n",
       "       [65.51515152],\n",
       "       [66.25252525],\n",
       "       [66.98989899],\n",
       "       [67.72727273],\n",
       "       [68.46464646],\n",
       "       [69.2020202 ],\n",
       "       [69.93939394],\n",
       "       [70.67676768],\n",
       "       [71.41414141],\n",
       "       [72.15151515],\n",
       "       [72.88888889],\n",
       "       [73.62626263],\n",
       "       [74.36363636],\n",
       "       [75.1010101 ],\n",
       "       [75.83838384],\n",
       "       [76.57575758],\n",
       "       [77.31313131],\n",
       "       [78.05050505],\n",
       "       [78.78787879],\n",
       "       [79.52525253],\n",
       "       [80.26262626],\n",
       "       [81.        ]])"
      ]
     },
     "execution_count": 66,
     "metadata": {},
     "output_type": "execute_result"
    }
   ],
   "source": [
    "xmin,xmax = near_dist.min(),near_dist.max()+10\n",
    "x = np.linspace(xmin,xmax,100).reshape(-1,1)\n",
    "x"
   ]
  },
  {
   "cell_type": "code",
   "execution_count": 67,
   "metadata": {},
   "outputs": [],
   "source": [
    "y_ = linear.predict(x)"
   ]
  },
  {
   "cell_type": "code",
   "execution_count": 69,
   "metadata": {
    "collapsed": true
   },
   "outputs": [
    {
     "data": {
      "text/plain": [
       "<matplotlib.collections.PathCollection at 0x1538e190>"
      ]
     },
     "execution_count": 69,
     "metadata": {},
     "output_type": "execute_result"
    },
    {
     "data": {
      "image/png": "[encoded data removed]",
      "text/plain": [
       "<matplotlib.figure.Figure at 0x171d53f0>"
      ]
     },
     "metadata": {},
     "output_type": "display_data"
    }
   ],
   "source": [
    "plt.plot(x,y_)\n",
    "plt.scatter(far_dist,far_temp,color='red')\n",
    "plt.scatter(near_dist,near_temp,color='green')"
   ]
  },
  {
   "cell_type": "code",
   "execution_count": 70,
   "metadata": {},
   "outputs": [
    {
     "data": {
      "text/plain": [
       "LinearRegression(copy_X=True, fit_intercept=True, n_jobs=1, normalize=False)"
      ]
     },
     "execution_count": 70,
     "metadata": {},
     "output_type": "execute_result"
    }
   ],
   "source": [
    "linear1 = LinearRegression()\n",
    "linear1.fit(far_dist.reshape(-1,1),far_temp)"
   ]
  },
  {
   "cell_type": "code",
   "execution_count": 71,
   "metadata": {},
   "outputs": [],
   "source": [
    "xmin1,xmax1 = far_dist.min()-10,far_dist.max()\n",
    "x1 = np.linspace(xmin1,xmax1,100).reshape(-1,1)\n",
    "y1_ = linear1.predict(x1)"
   ]
  },
  {
   "cell_type": "code",
   "execution_count": 77,
   "metadata": {
    "collapsed": true
   },
   "outputs": [
    {
     "data": {
      "text/plain": [
       "Text(0,0.5,'temperature')"
      ]
     },
     "execution_count": 77,
     "metadata": {},
     "output_type": "execute_result"
    },
    {
     "data": {
      "image/png": "[encoded data removed]",
      "text/plain": [
       "<matplotlib.figure.Figure at 0x154f4450>"
      ]
     },
     "metadata": {},
     "output_type": "display_data"
    }
   ],
   "source": [
    "\n",
    "plt.scatter(far_dist,far_temp,color='red')\n",
    "plt.scatter(near_dist,near_temp,color='green')\n",
    "plt.plot(x,y_,label='near city predict')\n",
    "plt.plot(x1,y1_,label='far city predict')\n",
    "plt.legend()\n",
    "\n",
    "plt.xlabel('distance')\n",
    "plt.ylabel('temperature')"
   ]
  },
  {
   "cell_type": "markdown",
   "metadata": {},
   "source": [
    "最低湿度与海洋距离的关系"
   ]
  },
  {
   "cell_type": "code",
   "execution_count": 85,
   "metadata": {
    "collapsed": true
   },
   "outputs": [
    {
     "data": {
      "text/plain": [
       "Text(0,0.5,'min_humidity')"
      ]
     },
     "execution_count": 85,
     "metadata": {},
     "output_type": "execute_result"
    },
    {
     "data": {
      "image/png": "[encoded data removed]",
      "text/plain": [
       "<matplotlib.figure.Figure at 0x15630bb0>"
      ]
     },
     "metadata": {},
     "output_type": "display_data"
    }
   ],
   "source": [
    "min_humiditys = [city['humidity'].min() for city in city_list]\n",
    "plt.figure(figsize=(6,2))\n",
    "plt.scatter(dist,min_humiditys)\n",
    "plt.xlabel('distance')\n",
    "plt.ylabel('min_humidity')"
   ]
  },
  {
   "cell_type": "markdown",
   "metadata": {},
   "source": [
    "最高湿度与海洋距离的关系"
   ]
  },
  {
   "cell_type": "code",
   "execution_count": 88,
   "metadata": {
    "collapsed": true
   },
   "outputs": [
    {
     "data": {
      "text/plain": [
       "Text(0,0.5,'max_humidity')"
      ]
     },
     "execution_count": 88,
     "metadata": {},
     "output_type": "execute_result"
    },
    {
     "data": {
      "image/png": "[encoded data removed]",
      "text/plain": [
       "<matplotlib.figure.Figure at 0x156b8870>"
      ]
     },
     "metadata": {},
     "output_type": "display_data"
    }
   ],
   "source": [
    "min_humiditys = [city['humidity'].max() for city in city_list]\n",
    "plt.figure(figsize=(6,2))\n",
    "plt.scatter(dist,min_humiditys)\n",
    "plt.xlabel('distance')\n",
    "plt.ylabel('max_humidity')"
   ]
  },
  {
   "cell_type": "markdown",
   "metadata": {},
   "source": [
    "平均湿度与海洋距离的关系"
   ]
  },
  {
   "cell_type": "code",
   "execution_count": 93,
   "metadata": {},
   "outputs": [
    {
     "data": {
      "text/plain": [
       "Text(0,0.5,'mean_humidity')"
      ]
     },
     "execution_count": 93,
     "metadata": {},
     "output_type": "execute_result"
    },
    {
     "data": {
      "image/png": "[encoded data removed]",
      "text/plain": [
       "<matplotlib.figure.Figure at 0x1572fdb0>"
      ]
     },
     "metadata": {},
     "output_type": "display_data"
    }
   ],
   "source": [
    "mean_humiditys = [city['humidity'].mean() for city in city_list]\n",
    "plt.figure(figsize=(6,2))\n",
    "plt.scatter(dist,min_humiditys)\n",
    "plt.xlabel('distance')\n",
    "plt.ylabel('mean_humidity')"
   ]
  },
  {
   "cell_type": "markdown",
   "metadata": {},
   "source": [
    "思考：模仿最高温度，得到平均湿度与海洋距离的回归曲线"
   ]
  },
  {
   "cell_type": "code",
   "execution_count": 90,
   "metadata": {},
   "outputs": [],
   "source": [
    "# 确定了一个线性回归模型\n",
    "linear2 = LinearRegression()"
   ]
  },
  {
   "cell_type": "code",
   "execution_count": 92,
   "metadata": {},
   "outputs": [
    {
     "data": {
      "text/plain": [
       "array([ True, False, False, False,  True, False,  True, False,  True])"
      ]
     },
     "execution_count": 92,
     "metadata": {},
     "output_type": "execute_result"
    }
   ],
   "source": [
    "# 寻找因变量和自变量\n",
    "far_city\n",
    "near_city"
   ]
  },
  {
   "cell_type": "code",
   "execution_count": 96,
   "metadata": {},
   "outputs": [],
   "source": [
    "mean_humiditys = np.array(mean_humiditys)"
   ]
  },
  {
   "cell_type": "code",
   "execution_count": 102,
   "metadata": {
    "scrolled": true
   },
   "outputs": [
    {
     "data": {
      "text/plain": [
       "array([63.19117647, 59.14705882, 56.98484848, 63.13235294, 61.33823529,\n",
       "       59.30882353])"
      ]
     },
     "metadata": {},
     "output_type": "display_data"
    },
    {
     "data": {
      "text/plain": [
       "array([61.30882353, 68.01515152, 61.33823529, 81.07462687])"
      ]
     },
     "metadata": {},
     "output_type": "display_data"
    },
    {
     "data": {
      "text/plain": [
       "array([357, 121, 250, 315,  71, 200], dtype=int64)"
      ]
     },
     "metadata": {},
     "output_type": "display_data"
    },
    {
     "data": {
      "text/plain": [
       "array([47,  8, 71, 37], dtype=int64)"
      ]
     },
     "metadata": {},
     "output_type": "display_data"
    }
   ],
   "source": [
    "far_humidity,near_humidity = mean_humiditys[far_city],mean_humiditys[near_city]\n",
    "\n",
    "display(far_humidity,near_humidity)\n",
    "display(far_dist,near_dist)"
   ]
  },
  {
   "cell_type": "code",
   "execution_count": 107,
   "metadata": {},
   "outputs": [
    {
     "data": {
      "text/plain": [
       "LinearRegression(copy_X=True, fit_intercept=True, n_jobs=1, normalize=False)"
      ]
     },
     "execution_count": 107,
     "metadata": {},
     "output_type": "execute_result"
    }
   ],
   "source": [
    "linear2.fit(near_dist.reshape(-1,1),near_humidity.reshape(-1,1))"
   ]
  },
  {
   "cell_type": "code",
   "execution_count": 108,
   "metadata": {},
   "outputs": [],
   "source": [
    "xmin,xmax = near_dist.min(),near_dist.max()+10\n",
    "x = np.linspace(xmin,xmax,100).reshape(-1,1)\n",
    "y_ = linear2.predict(x)"
   ]
  },
  {
   "cell_type": "code",
   "execution_count": 112,
   "metadata": {},
   "outputs": [],
   "source": [
    "linear3 = LinearRegression()\n",
    "linear3.fit(far_dist.reshape(-1,1),far_humidity)\n",
    "xmin1,xmax1 = far_dist.min()-10,far_dist.max()\n",
    "x1 = np.linspace(xmin1,xmax1,100).reshape(-1,1)\n",
    "y1_ = linear3.predict(x1)"
   ]
  },
  {
   "cell_type": "code",
   "execution_count": 114,
   "metadata": {
    "collapsed": true
   },
   "outputs": [
    {
     "data": {
      "text/plain": [
       "<matplotlib.legend.Legend at 0x15a08390>"
      ]
     },
     "execution_count": 114,
     "metadata": {},
     "output_type": "execute_result"
    },
    {
     "data": {
      "image/png": "[encoded data removed]",
      "text/plain": [
       "<matplotlib.figure.Figure at 0x159bbb50>"
      ]
     },
     "metadata": {},
     "output_type": "display_data"
    }
   ],
   "source": [
    "mean_humiditys = [city['humidity'].mean() for city in city_list]\n",
    "plt.figure(figsize=(6,2))\n",
    "plt.scatter(dist,min_humiditys)\n",
    "plt.xlabel('distance')\n",
    "plt.ylabel('mean_humidity')\n",
    "plt.plot(x,y_,label='near_humidity_predict')\n",
    "plt.plot(x1,y1_,label='far_humidity_predict')\n",
    "plt.legend()"
   ]
  },
  {
   "cell_type": "markdown",
   "metadata": {},
   "source": [
    "风向与风速的关系"
   ]
  },
  {
   "cell_type": "code",
   "execution_count": 116,
   "metadata": {},
   "outputs": [
    {
     "data": {
      "text/html": [
       "<div>\n",
       "<style scoped>\n",
       "    .dataframe tbody tr th:only-of-type {\n",
       "        vertical-align: middle;\n",
       "    }\n",
       "\n",
       "    .dataframe tbody tr th {\n",
       "        vertical-align: top;\n",
       "    }\n",
       "\n",
       "    .dataframe thead th {\n",
       "        text-align: right;\n",
       "    }\n",
       "</style>\n",
       "<table border=\"1\" class=\"dataframe\">\n",
       "  <thead>\n",
       "    <tr style=\"text-align: right;\">\n",
       "      <th></th>\n",
       "      <th>temp</th>\n",
       "      <th>humidity</th>\n",
       "      <th>pressure</th>\n",
       "      <th>description</th>\n",
       "      <th>dt</th>\n",
       "      <th>wind_speed</th>\n",
       "      <th>wind_deg</th>\n",
       "      <th>city</th>\n",
       "      <th>day</th>\n",
       "      <th>dist</th>\n",
       "    </tr>\n",
       "  </thead>\n",
       "  <tbody>\n",
       "    <tr>\n",
       "      <th>0</th>\n",
       "      <td>29.4</td>\n",
       "      <td>83</td>\n",
       "      <td>1015</td>\n",
       "      <td>moderate rain</td>\n",
       "      <td>1436863177</td>\n",
       "      <td>3.62</td>\n",
       "      <td>94.001</td>\n",
       "      <td>Faenza</td>\n",
       "      <td>2015-07-14 10:39:37</td>\n",
       "      <td>37</td>\n",
       "    </tr>\n",
       "  </tbody>\n",
       "</table>\n",
       "</div>"
      ],
      "text/plain": [
       "   temp  humidity  pressure    description          dt  wind_speed  wind_deg  \\\n",
       "0  29.4        83      1015  moderate rain  1436863177        3.62    94.001   \n",
       "\n",
       "     city                  day  dist  \n",
       "0  Faenza  2015-07-14 10:39:37    37  "
      ]
     },
     "execution_count": 116,
     "metadata": {},
     "output_type": "execute_result"
    }
   ],
   "source": [
    "faenza.head(1)"
   ]
  },
  {
   "cell_type": "code",
   "execution_count": 128,
   "metadata": {},
   "outputs": [],
   "source": [
    "wind_speeds = [city['wind_speed'] for city in city_list]\n",
    "wind_degs = [city['wind_deg'] for city in city_list]\n",
    "city_humidity = [city['humidity'] for city in city_list]"
   ]
  },
  {
   "cell_type": "markdown",
   "metadata": {},
   "source": [
    "在子图中，同时比较风向与湿度和风力的关系"
   ]
  },
  {
   "cell_type": "code",
   "execution_count": 131,
   "metadata": {},
   "outputs": [
    {
     "data": {
      "text/plain": [
       "Text(0.5,1,'wind_deg & wind_speed')"
      ]
     },
     "execution_count": 131,
     "metadata": {},
     "output_type": "execute_result"
    },
    {
     "data": {
      "image/png": "[encoded data removed]",
      "text/plain": [
       "<matplotlib.figure.Figure at 0x184b6e70>"
      ]
     },
     "metadata": {},
     "output_type": "display_data"
    }
   ],
   "source": [
    "plt.figure(figsize=(10,6))\n",
    "axes1 = plt.subplot(211)\n",
    "axes1.scatter(wind_degs[0],city_humidity[0],color='orange')\n",
    "axes1.set_title('wind_deg & humidity')\n",
    "\n",
    "axes2 = plt.subplot(212)\n",
    "axes2.scatter(wind_degs[0],wind_speeds[0],color='blue')\n",
    "axes2.set_title('wind_deg & wind_speed')"
   ]
  },
  {
   "cell_type": "markdown",
   "metadata": {},
   "source": [
    "由于风向是360度，我们可以考虑使用玫瑰图（极坐标条形图）"
   ]
  },
  {
   "cell_type": "code",
   "execution_count": 132,
   "metadata": {
    "collapsed": true
   },
   "outputs": [
    {
     "data": {
      "text/plain": [
       "[0     180.00000\n",
       " 1     135.00000\n",
       " 2     113.00000\n",
       " 3      90.00000\n",
       " 4      68.00000\n",
       " 5     113.00000\n",
       " 6     113.00000\n",
       " 7     180.00000\n",
       " 8      90.00000\n",
       " 9     135.00000\n",
       " 10    113.00000\n",
       " 11    135.00000\n",
       " 12     90.00000\n",
       " 13     68.00000\n",
       " 14    135.00000\n",
       " 15    104.50100\n",
       " 16    104.50100\n",
       " 17     48.00330\n",
       " 18     48.00330\n",
       " 19    185.50300\n",
       " 20     79.50130\n",
       " 21    238.00100\n",
       " 22     79.50130\n",
       " 23     69.50090\n",
       " 24     23.00000\n",
       " 25     45.00000\n",
       " 26    123.00300\n",
       " 27    123.00300\n",
       " 28     23.00000\n",
       " 29    135.00000\n",
       "         ...    \n",
       " 38    225.00000\n",
       " 39    198.00200\n",
       " 40    248.00000\n",
       " 41     31.50360\n",
       " 42     31.50360\n",
       " 43    225.00000\n",
       " 44    225.00000\n",
       " 45    270.00000\n",
       " 46    248.00000\n",
       " 47    293.00000\n",
       " 48    135.00000\n",
       " 49     45.00000\n",
       " 50    158.00000\n",
       " 51     14.50020\n",
       " 52    203.00000\n",
       " 53    203.00000\n",
       " 54     45.00000\n",
       " 55    135.00000\n",
       " 56     90.00000\n",
       " 57    113.00000\n",
       " 58    203.00000\n",
       " 59     23.00000\n",
       " 60    126.51500\n",
       " 61     23.00000\n",
       " 62     23.00000\n",
       " 63     23.00000\n",
       " 64    248.00300\n",
       " 65    248.00300\n",
       " 66      5.50055\n",
       " 67      5.50055\n",
       " Name: wind_deg, Length: 68, dtype: float64, 0      20\n",
       " 1      80\n",
       " 2     100\n",
       " 3      90\n",
       " 4     120\n",
       " 5     110\n",
       " 6     100\n",
       " 7     100\n",
       " 8     100\n",
       " 9     240\n",
       " 10     70\n",
       " 11     40\n",
       " 12     30\n",
       " 13    330\n",
       " 14    340\n",
       " 15    350\n",
       " 16    340\n",
       " 17    360\n",
       " 18    310\n",
       " 19      0\n",
       " 20    350\n",
       " 21    330\n",
       " 22      0\n",
       " 23     50\n",
       " 24     70\n",
       " 25     70\n",
       " 26     70\n",
       " 27     10\n",
       " 28    120\n",
       " 29      0\n",
       "      ... \n",
       " 38     10\n",
       " 39    280\n",
       " 40    290\n",
       " 41      0\n",
       " 42    350\n",
       " 43    330\n",
       " 44     50\n",
       " 45      0\n",
       " 46      0\n",
       " 47      0\n",
       " 48      0\n",
       " 49     80\n",
       " 50     50\n",
       " 51     50\n",
       " 52     70\n",
       " 53     60\n",
       " 54    360\n",
       " 55    170\n",
       " 56      0\n",
       " 57     90\n",
       " 58     50\n",
       " 59     10\n",
       " 60    340\n",
       " 61    340\n",
       " 62    340\n",
       " 63    340\n",
       " 64     30\n",
       " 65    360\n",
       " 66     10\n",
       " 67     40\n",
       " Name: wind_deg, Length: 68, dtype: int64, 0     140\n",
       " 1       0\n",
       " 2     170\n",
       " 3       0\n",
       " 4     180\n",
       " 5     150\n",
       " 6     140\n",
       " 7       0\n",
       " 8     150\n",
       " 9     160\n",
       " 10    160\n",
       " 11    100\n",
       " 12     90\n",
       " 13     70\n",
       " 14     70\n",
       " 15     60\n",
       " 16     80\n",
       " 17     40\n",
       " 18    330\n",
       " 19    330\n",
       " 20    330\n",
       " 21      0\n",
       " 22    120\n",
       " 23    110\n",
       " 24      0\n",
       " 25    130\n",
       " 26    130\n",
       " 27    120\n",
       " 28    130\n",
       " 29    130\n",
       "      ... \n",
       " 38    250\n",
       " 39    260\n",
       " 40    320\n",
       " 41    330\n",
       " 42      0\n",
       " 43    310\n",
       " 44    330\n",
       " 45    250\n",
       " 46    280\n",
       " 47    280\n",
       " 48     70\n",
       " 49    110\n",
       " 50    170\n",
       " 51    210\n",
       " 52    180\n",
       " 53    150\n",
       " 54    210\n",
       " 55    290\n",
       " 56    230\n",
       " 57    200\n",
       " 58    210\n",
       " 59     70\n",
       " 60     90\n",
       " 61    100\n",
       " 62     20\n",
       " 63     10\n",
       " 64    350\n",
       " 65    350\n",
       " 66    320\n",
       " 67    170\n",
       " Name: wind_deg, Length: 68, dtype: int64, 0     100\n",
       " 1       0\n",
       " 2     140\n",
       " 3       0\n",
       " 4      80\n",
       " 5       0\n",
       " 6     230\n",
       " 7     220\n",
       " 8     210\n",
       " 9     210\n",
       " 10    220\n",
       " 11    200\n",
       " 12    200\n",
       " 13      0\n",
       " 14      0\n",
       " 15     70\n",
       " 16     80\n",
       " 17     80\n",
       " 18      0\n",
       " 19     90\n",
       " 20    140\n",
       " 21      0\n",
       " 22     60\n",
       " 23    100\n",
       " 24     90\n",
       " 25     70\n",
       " 26     80\n",
       " 27    130\n",
       " 28    130\n",
       " 29      0\n",
       "      ... \n",
       " 36    140\n",
       " 37     30\n",
       " 38    350\n",
       " 39     10\n",
       " 40      0\n",
       " 41    110\n",
       " 42     10\n",
       " 43      0\n",
       " 44    200\n",
       " 45      0\n",
       " 46      0\n",
       " 47     70\n",
       " 48    140\n",
       " 49    160\n",
       " 50    210\n",
       " 51    220\n",
       " 52    210\n",
       " 53    230\n",
       " 54    250\n",
       " 55    220\n",
       " 56    270\n",
       " 57    310\n",
       " 58    200\n",
       " 59    210\n",
       " 60    120\n",
       " 61     90\n",
       " 62     50\n",
       " 63     40\n",
       " 64     40\n",
       " 65      0\n",
       " Name: wind_deg, Length: 66, dtype: int64, 0      10.0000\n",
       " 1      20.0000\n",
       " 2      40.0000\n",
       " 3      90.0000\n",
       " 4      87.0000\n",
       " 5      79.0000\n",
       " 6      70.0000\n",
       " 7      80.0000\n",
       " 8      90.0000\n",
       " 9      90.0000\n",
       " 10    105.0000\n",
       " 11    100.0000\n",
       " 12    110.0000\n",
       " 13    116.5040\n",
       " 14    145.0010\n",
       " 15    145.0010\n",
       " 16    145.0010\n",
       " 17    155.5030\n",
       " 18    155.5030\n",
       " 19    155.5030\n",
       " 20    190.0000\n",
       " 21    126.5010\n",
       " 22    250.0000\n",
       " 23     99.0009\n",
       " 24    330.0030\n",
       " 25     20.0000\n",
       " 26     70.0000\n",
       " 27     70.0000\n",
       " 28     10.0000\n",
       " 29     80.0000\n",
       "         ...   \n",
       " 36    190.0000\n",
       " 37    180.0000\n",
       " 38    193.5020\n",
       " 39    193.5020\n",
       " 40    224.0040\n",
       " 41    224.0040\n",
       " 42    224.0040\n",
       " 43    180.0000\n",
       " 44    190.0000\n",
       " 45    254.0010\n",
       " 46    257.5030\n",
       " 47    190.0000\n",
       " 48    159.5000\n",
       " 49    100.0000\n",
       " 50     80.0000\n",
       " 51     90.0000\n",
       " 52     80.0000\n",
       " 53     80.0000\n",
       " 54     90.0000\n",
       " 55     90.0000\n",
       " 56     90.0000\n",
       " 57     97.0000\n",
       " 58     89.0000\n",
       " 59     88.0147\n",
       " 60    107.0040\n",
       " 61    107.0040\n",
       " 62    132.5030\n",
       " 63    132.5030\n",
       " 64    132.5030\n",
       " 65    251.0000\n",
       " Name: wind_deg, Length: 66, dtype: float64, 0      42.501\n",
       " 1     263.000\n",
       " 2     100.000\n",
       " 3      90.000\n",
       " 4     120.000\n",
       " 5     110.000\n",
       " 6     100.000\n",
       " 7     100.000\n",
       " 8     100.000\n",
       " 9     240.000\n",
       " 10     70.000\n",
       " 11     40.000\n",
       " 12     30.000\n",
       " 13    330.000\n",
       " 14      0.000\n",
       " 15    350.000\n",
       " 16    340.000\n",
       " 17    360.000\n",
       " 18    310.000\n",
       " 19      0.000\n",
       " 20    350.000\n",
       " 21    330.000\n",
       " 22      0.000\n",
       " 23     50.000\n",
       " 24     70.000\n",
       " 25     70.000\n",
       " 26     24.000\n",
       " 27     10.000\n",
       " 28    120.000\n",
       " 29      0.000\n",
       "        ...   \n",
       " 38     10.000\n",
       " 39    280.000\n",
       " 40    290.000\n",
       " 41      0.000\n",
       " 42    350.000\n",
       " 43    330.000\n",
       " 44      0.000\n",
       " 45      0.000\n",
       " 46      0.000\n",
       " 47      0.000\n",
       " 48     80.000\n",
       " 49     50.000\n",
       " 50    100.000\n",
       " 51     70.000\n",
       " 52    154.505\n",
       " 53     50.000\n",
       " 54      0.000\n",
       " 55    140.000\n",
       " 56     50.000\n",
       " 57    100.000\n",
       " 58     10.000\n",
       " 59    340.000\n",
       " 60    320.000\n",
       " 61    340.000\n",
       " 62    360.000\n",
       " 63     30.000\n",
       " 64    360.000\n",
       " 65    321.501\n",
       " 66      0.000\n",
       " 67      0.000\n",
       " Name: wind_deg, Length: 68, dtype: float64, 0      90.00000\n",
       " 1     157.00000\n",
       " 2      67.00000\n",
       " 3      90.00000\n",
       " 4     135.00000\n",
       " 5      22.00000\n",
       " 6     337.00000\n",
       " 7       0.00000\n",
       " 8     112.00000\n",
       " 9      90.00000\n",
       " 10    112.00000\n",
       " 11    128.00000\n",
       " 12     91.00400\n",
       " 13     91.00400\n",
       " 14    120.00000\n",
       " 15    163.00100\n",
       " 16    129.00000\n",
       " 17    185.50300\n",
       " 18    185.50300\n",
       " 19    185.50300\n",
       " 20    238.00100\n",
       " 21    238.00100\n",
       " 22    238.00100\n",
       " 23     69.50090\n",
       " 24    315.00000\n",
       " 25     69.00000\n",
       " 26     28.00000\n",
       " 27     74.00000\n",
       " 28    201.00000\n",
       " 29    225.00000\n",
       "         ...    \n",
       " 38    171.00000\n",
       " 39    171.00000\n",
       " 40    171.00000\n",
       " 41    171.00000\n",
       " 42    171.00000\n",
       " 43    171.00000\n",
       " 44    171.00000\n",
       " 45    171.00000\n",
       " 46    171.00000\n",
       " 47    171.00000\n",
       " 48    225.00000\n",
       " 49    256.00000\n",
       " 50    325.00000\n",
       " 51     22.00000\n",
       " 52     28.00000\n",
       " 53    291.00000\n",
       " 54    282.00000\n",
       " 55    188.00000\n",
       " 56    197.00000\n",
       " 57    205.00000\n",
       " 58    102.00000\n",
       " 59     75.00000\n",
       " 60     71.00000\n",
       " 61      4.00000\n",
       " 62    216.00000\n",
       " 63    248.00300\n",
       " 64    207.00000\n",
       " 65      5.50055\n",
       " 66    211.00000\n",
       " 67      5.50055\n",
       " Name: wind_deg, Length: 68, dtype: float64, 0     100.000\n",
       " 1       0.000\n",
       " 2     140.000\n",
       " 3       0.000\n",
       " 4      23.000\n",
       " 5       0.000\n",
       " 6     230.000\n",
       " 7     104.001\n",
       " 8     210.000\n",
       " 9     210.000\n",
       " 10    220.000\n",
       " 11    200.000\n",
       " 12    313.504\n",
       " 13      0.000\n",
       " 14      0.000\n",
       " 15     70.000\n",
       " 16     80.000\n",
       " 17     80.000\n",
       " 18      0.000\n",
       " 19     90.000\n",
       " 20    140.000\n",
       " 21      0.000\n",
       " 22    330.501\n",
       " 23    100.000\n",
       " 24     90.000\n",
       " 25     55.000\n",
       " 26     80.000\n",
       " 27    130.000\n",
       " 28    130.000\n",
       " 29      0.000\n",
       "        ...   \n",
       " 38    350.000\n",
       " 39     30.000\n",
       " 40     10.000\n",
       " 41     20.000\n",
       " 42     10.000\n",
       " 43    240.000\n",
       " 44    200.000\n",
       " 45      0.000\n",
       " 46      0.000\n",
       " 47    340.000\n",
       " 48    279.000\n",
       " 49    140.000\n",
       " 50    160.000\n",
       " 51      0.000\n",
       " 52    230.000\n",
       " 53    305.000\n",
       " 54    316.000\n",
       " 55    347.000\n",
       " 56    280.000\n",
       " 57    283.000\n",
       " 58    311.000\n",
       " 59     36.000\n",
       " 60     58.000\n",
       " 61     41.000\n",
       " 62     59.000\n",
       " 63      3.000\n",
       " 64     48.000\n",
       " 65    226.003\n",
       " 66    178.000\n",
       " 67    138.501\n",
       " Name: wind_deg, Length: 68, dtype: float64, 0      94.0010\n",
       " 1      80.0000\n",
       " 2      70.0000\n",
       " 3      90.0000\n",
       " 4     100.0000\n",
       " 5      90.0000\n",
       " 6     100.0000\n",
       " 7     120.0000\n",
       " 8     110.0000\n",
       " 9     120.0000\n",
       " 10    120.0000\n",
       " 11    110.0000\n",
       " 12    110.0000\n",
       " 13    116.5040\n",
       " 14    163.0010\n",
       " 15    240.0000\n",
       " 16    250.0000\n",
       " 17    250.0000\n",
       " 18    155.5030\n",
       " 19    155.5030\n",
       " 20    126.5010\n",
       " 21    126.5010\n",
       " 22    250.0000\n",
       " 23     99.0009\n",
       " 24    310.0000\n",
       " 25     40.0000\n",
       " 26     70.0000\n",
       " 27     70.0000\n",
       " 28     60.0000\n",
       " 29     80.0000\n",
       "         ...   \n",
       " 37    250.0000\n",
       " 38    170.0000\n",
       " 39    250.0000\n",
       " 40    210.5040\n",
       " 41    224.0040\n",
       " 42    230.0000\n",
       " 43    230.0000\n",
       " 44    254.0010\n",
       " 45    254.0010\n",
       " 46    250.0000\n",
       " 47    260.0000\n",
       " 48     14.5002\n",
       " 49    100.0000\n",
       " 50    120.0000\n",
       " 51    110.0000\n",
       " 52    110.0000\n",
       " 53    110.0000\n",
       " 54    110.0000\n",
       " 55    120.0000\n",
       " 56    120.0000\n",
       " 57    120.0000\n",
       " 58     90.0000\n",
       " 59     90.0000\n",
       " 60    210.0000\n",
       " 61    218.5040\n",
       " 62    330.0000\n",
       " 63    320.0000\n",
       " 64    300.0000\n",
       " 65    270.0000\n",
       " 66    260.0000\n",
       " Name: wind_deg, Length: 67, dtype: float64]"
      ]
     },
     "execution_count": 132,
     "metadata": {},
     "output_type": "execute_result"
    }
   ],
   "source": [
    "wind_degs"
   ]
  },
  {
   "cell_type": "code",
   "execution_count": null,
   "metadata": {},
   "outputs": [],
   "source": [
    "# 如何根据风向分组 假设我们要分8组"
   ]
  },
  {
   "cell_type": "code",
   "execution_count": 135,
   "metadata": {
    "collapsed": true
   },
   "outputs": [
    {
     "data": {
      "text/plain": [
       "<matplotlib.axes._subplots.AxesSubplot at 0x1850afb0>"
      ]
     },
     "execution_count": 135,
     "metadata": {},
     "output_type": "execute_result"
    },
    {
     "data": {
      "image/png": "[encoded data removed]",
      "text/plain": [
       "<matplotlib.figure.Figure at 0x1850e390>"
      ]
     },
     "metadata": {},
     "output_type": "display_data"
    }
   ],
   "source": [
    "s = Series(np.array([1,3,5,7,9,4,2,5,7,6]))\n",
    "s.plot(kind='hist',bins=8)"
   ]
  },
  {
   "cell_type": "code",
   "execution_count": 142,
   "metadata": {
    "collapsed": true
   },
   "outputs": [
    {
     "data": {
      "text/html": [
       "<div>\n",
       "<style scoped>\n",
       "    .dataframe tbody tr th:only-of-type {\n",
       "        vertical-align: middle;\n",
       "    }\n",
       "\n",
       "    .dataframe tbody tr th {\n",
       "        vertical-align: top;\n",
       "    }\n",
       "\n",
       "    .dataframe thead th {\n",
       "        text-align: right;\n",
       "    }\n",
       "</style>\n",
       "<table border=\"1\" class=\"dataframe\">\n",
       "  <thead>\n",
       "    <tr style=\"text-align: right;\">\n",
       "      <th></th>\n",
       "      <th>temp</th>\n",
       "      <th>humidity</th>\n",
       "      <th>pressure</th>\n",
       "      <th>description</th>\n",
       "      <th>dt</th>\n",
       "      <th>wind_speed</th>\n",
       "      <th>wind_deg</th>\n",
       "      <th>city</th>\n",
       "      <th>day</th>\n",
       "      <th>dist</th>\n",
       "    </tr>\n",
       "  </thead>\n",
       "  <tbody>\n",
       "    <tr>\n",
       "      <th>0</th>\n",
       "      <td>29.40</td>\n",
       "      <td>83</td>\n",
       "      <td>1015</td>\n",
       "      <td>moderate rain</td>\n",
       "      <td>1436863177</td>\n",
       "      <td>3.62</td>\n",
       "      <td>94.0010</td>\n",
       "      <td>Faenza</td>\n",
       "      <td>2015-07-14 10:39:37</td>\n",
       "      <td>37</td>\n",
       "    </tr>\n",
       "    <tr>\n",
       "      <th>1</th>\n",
       "      <td>30.12</td>\n",
       "      <td>78</td>\n",
       "      <td>1015</td>\n",
       "      <td>moderate rain</td>\n",
       "      <td>1436866759</td>\n",
       "      <td>3.10</td>\n",
       "      <td>80.0000</td>\n",
       "      <td>Faenza</td>\n",
       "      <td>2015-07-14 11:39:19</td>\n",
       "      <td>37</td>\n",
       "    </tr>\n",
       "    <tr>\n",
       "      <th>2</th>\n",
       "      <td>30.10</td>\n",
       "      <td>78</td>\n",
       "      <td>1015</td>\n",
       "      <td>moderate rain</td>\n",
       "      <td>1436870510</td>\n",
       "      <td>3.60</td>\n",
       "      <td>70.0000</td>\n",
       "      <td>Faenza</td>\n",
       "      <td>2015-07-14 12:41:50</td>\n",
       "      <td>37</td>\n",
       "    </tr>\n",
       "    <tr>\n",
       "      <th>3</th>\n",
       "      <td>30.75</td>\n",
       "      <td>74</td>\n",
       "      <td>1015</td>\n",
       "      <td>moderate rain</td>\n",
       "      <td>1436874099</td>\n",
       "      <td>4.60</td>\n",
       "      <td>90.0000</td>\n",
       "      <td>Faenza</td>\n",
       "      <td>2015-07-14 13:41:39</td>\n",
       "      <td>37</td>\n",
       "    </tr>\n",
       "    <tr>\n",
       "      <th>4</th>\n",
       "      <td>30.71</td>\n",
       "      <td>66</td>\n",
       "      <td>1015</td>\n",
       "      <td>moderate rain</td>\n",
       "      <td>1436877646</td>\n",
       "      <td>5.10</td>\n",
       "      <td>100.0000</td>\n",
       "      <td>Faenza</td>\n",
       "      <td>2015-07-14 14:40:46</td>\n",
       "      <td>37</td>\n",
       "    </tr>\n",
       "    <tr>\n",
       "      <th>5</th>\n",
       "      <td>31.29</td>\n",
       "      <td>66</td>\n",
       "      <td>1015</td>\n",
       "      <td>moderate rain</td>\n",
       "      <td>1436881330</td>\n",
       "      <td>5.70</td>\n",
       "      <td>90.0000</td>\n",
       "      <td>Faenza</td>\n",
       "      <td>2015-07-14 15:42:10</td>\n",
       "      <td>37</td>\n",
       "    </tr>\n",
       "    <tr>\n",
       "      <th>6</th>\n",
       "      <td>31.29</td>\n",
       "      <td>66</td>\n",
       "      <td>1014</td>\n",
       "      <td>moderate rain</td>\n",
       "      <td>1436884929</td>\n",
       "      <td>5.70</td>\n",
       "      <td>100.0000</td>\n",
       "      <td>Faenza</td>\n",
       "      <td>2015-07-14 16:42:09</td>\n",
       "      <td>37</td>\n",
       "    </tr>\n",
       "    <tr>\n",
       "      <th>7</th>\n",
       "      <td>30.40</td>\n",
       "      <td>66</td>\n",
       "      <td>1014</td>\n",
       "      <td>moderate rain</td>\n",
       "      <td>1436888513</td>\n",
       "      <td>5.70</td>\n",
       "      <td>120.0000</td>\n",
       "      <td>Faenza</td>\n",
       "      <td>2015-07-14 17:41:53</td>\n",
       "      <td>37</td>\n",
       "    </tr>\n",
       "    <tr>\n",
       "      <th>8</th>\n",
       "      <td>30.67</td>\n",
       "      <td>62</td>\n",
       "      <td>1014</td>\n",
       "      <td>moderate rain</td>\n",
       "      <td>1436892134</td>\n",
       "      <td>5.70</td>\n",
       "      <td>110.0000</td>\n",
       "      <td>Faenza</td>\n",
       "      <td>2015-07-14 18:42:14</td>\n",
       "      <td>37</td>\n",
       "    </tr>\n",
       "    <tr>\n",
       "      <th>9</th>\n",
       "      <td>29.68</td>\n",
       "      <td>65</td>\n",
       "      <td>1014</td>\n",
       "      <td>moderate rain</td>\n",
       "      <td>1436895723</td>\n",
       "      <td>4.60</td>\n",
       "      <td>120.0000</td>\n",
       "      <td>Faenza</td>\n",
       "      <td>2015-07-14 19:42:03</td>\n",
       "      <td>37</td>\n",
       "    </tr>\n",
       "    <tr>\n",
       "      <th>10</th>\n",
       "      <td>28.07</td>\n",
       "      <td>74</td>\n",
       "      <td>1014</td>\n",
       "      <td>moderate rain</td>\n",
       "      <td>1436899337</td>\n",
       "      <td>4.10</td>\n",
       "      <td>120.0000</td>\n",
       "      <td>Faenza</td>\n",
       "      <td>2015-07-14 20:42:17</td>\n",
       "      <td>37</td>\n",
       "    </tr>\n",
       "    <tr>\n",
       "      <th>11</th>\n",
       "      <td>27.10</td>\n",
       "      <td>83</td>\n",
       "      <td>1014</td>\n",
       "      <td>moderate rain</td>\n",
       "      <td>1436902943</td>\n",
       "      <td>2.60</td>\n",
       "      <td>110.0000</td>\n",
       "      <td>Faenza</td>\n",
       "      <td>2015-07-14 21:42:23</td>\n",
       "      <td>37</td>\n",
       "    </tr>\n",
       "    <tr>\n",
       "      <th>12</th>\n",
       "      <td>26.19</td>\n",
       "      <td>94</td>\n",
       "      <td>1014</td>\n",
       "      <td>moderate rain</td>\n",
       "      <td>1436906533</td>\n",
       "      <td>2.10</td>\n",
       "      <td>110.0000</td>\n",
       "      <td>Faenza</td>\n",
       "      <td>2015-07-14 22:42:13</td>\n",
       "      <td>37</td>\n",
       "    </tr>\n",
       "    <tr>\n",
       "      <th>13</th>\n",
       "      <td>25.51</td>\n",
       "      <td>94</td>\n",
       "      <td>1014</td>\n",
       "      <td>moderate rain</td>\n",
       "      <td>1436910150</td>\n",
       "      <td>2.41</td>\n",
       "      <td>116.5040</td>\n",
       "      <td>Faenza</td>\n",
       "      <td>2015-07-14 23:42:30</td>\n",
       "      <td>37</td>\n",
       "    </tr>\n",
       "    <tr>\n",
       "      <th>14</th>\n",
       "      <td>24.90</td>\n",
       "      <td>94</td>\n",
       "      <td>1015</td>\n",
       "      <td>moderate rain</td>\n",
       "      <td>1436913739</td>\n",
       "      <td>1.21</td>\n",
       "      <td>163.0010</td>\n",
       "      <td>Faenza</td>\n",
       "      <td>2015-07-15 00:42:19</td>\n",
       "      <td>37</td>\n",
       "    </tr>\n",
       "    <tr>\n",
       "      <th>15</th>\n",
       "      <td>24.46</td>\n",
       "      <td>94</td>\n",
       "      <td>1015</td>\n",
       "      <td>moderate rain</td>\n",
       "      <td>1436917313</td>\n",
       "      <td>1.00</td>\n",
       "      <td>240.0000</td>\n",
       "      <td>Faenza</td>\n",
       "      <td>2015-07-15 01:41:53</td>\n",
       "      <td>37</td>\n",
       "    </tr>\n",
       "    <tr>\n",
       "      <th>16</th>\n",
       "      <td>24.19</td>\n",
       "      <td>88</td>\n",
       "      <td>1015</td>\n",
       "      <td>moderate rain</td>\n",
       "      <td>1436920932</td>\n",
       "      <td>1.50</td>\n",
       "      <td>250.0000</td>\n",
       "      <td>Faenza</td>\n",
       "      <td>2015-07-15 02:42:12</td>\n",
       "      <td>37</td>\n",
       "    </tr>\n",
       "    <tr>\n",
       "      <th>17</th>\n",
       "      <td>23.99</td>\n",
       "      <td>94</td>\n",
       "      <td>1015</td>\n",
       "      <td>Sky is Clear</td>\n",
       "      <td>1436924427</td>\n",
       "      <td>0.50</td>\n",
       "      <td>250.0000</td>\n",
       "      <td>Faenza</td>\n",
       "      <td>2015-07-15 03:40:27</td>\n",
       "      <td>37</td>\n",
       "    </tr>\n",
       "    <tr>\n",
       "      <th>18</th>\n",
       "      <td>23.00</td>\n",
       "      <td>88</td>\n",
       "      <td>1015</td>\n",
       "      <td>Sky is Clear</td>\n",
       "      <td>1436928078</td>\n",
       "      <td>1.12</td>\n",
       "      <td>155.5030</td>\n",
       "      <td>Faenza</td>\n",
       "      <td>2015-07-15 04:41:18</td>\n",
       "      <td>37</td>\n",
       "    </tr>\n",
       "    <tr>\n",
       "      <th>19</th>\n",
       "      <td>23.00</td>\n",
       "      <td>88</td>\n",
       "      <td>1015</td>\n",
       "      <td>Sky is Clear</td>\n",
       "      <td>1436931718</td>\n",
       "      <td>1.12</td>\n",
       "      <td>155.5030</td>\n",
       "      <td>Faenza</td>\n",
       "      <td>2015-07-15 05:41:58</td>\n",
       "      <td>37</td>\n",
       "    </tr>\n",
       "    <tr>\n",
       "      <th>20</th>\n",
       "      <td>22.51</td>\n",
       "      <td>88</td>\n",
       "      <td>1015</td>\n",
       "      <td>Sky is Clear</td>\n",
       "      <td>1436935299</td>\n",
       "      <td>1.52</td>\n",
       "      <td>126.5010</td>\n",
       "      <td>Faenza</td>\n",
       "      <td>2015-07-15 06:41:39</td>\n",
       "      <td>37</td>\n",
       "    </tr>\n",
       "    <tr>\n",
       "      <th>21</th>\n",
       "      <td>23.01</td>\n",
       "      <td>94</td>\n",
       "      <td>1015</td>\n",
       "      <td>Sky is Clear</td>\n",
       "      <td>1436938883</td>\n",
       "      <td>1.52</td>\n",
       "      <td>126.5010</td>\n",
       "      <td>Faenza</td>\n",
       "      <td>2015-07-15 07:41:23</td>\n",
       "      <td>37</td>\n",
       "    </tr>\n",
       "    <tr>\n",
       "      <th>22</th>\n",
       "      <td>25.00</td>\n",
       "      <td>88</td>\n",
       "      <td>1016</td>\n",
       "      <td>Sky is Clear</td>\n",
       "      <td>1436942516</td>\n",
       "      <td>1.00</td>\n",
       "      <td>250.0000</td>\n",
       "      <td>Faenza</td>\n",
       "      <td>2015-07-15 08:41:56</td>\n",
       "      <td>37</td>\n",
       "    </tr>\n",
       "    <tr>\n",
       "      <th>23</th>\n",
       "      <td>27.51</td>\n",
       "      <td>88</td>\n",
       "      <td>1016</td>\n",
       "      <td>Sky is Clear</td>\n",
       "      <td>1436945951</td>\n",
       "      <td>2.57</td>\n",
       "      <td>99.0009</td>\n",
       "      <td>Faenza</td>\n",
       "      <td>2015-07-15 09:39:11</td>\n",
       "      <td>37</td>\n",
       "    </tr>\n",
       "    <tr>\n",
       "      <th>24</th>\n",
       "      <td>32.08</td>\n",
       "      <td>79</td>\n",
       "      <td>1010</td>\n",
       "      <td>moderate rain</td>\n",
       "      <td>1437730850</td>\n",
       "      <td>1.50</td>\n",
       "      <td>310.0000</td>\n",
       "      <td>Faenza</td>\n",
       "      <td>2015-07-24 11:40:50</td>\n",
       "      <td>37</td>\n",
       "    </tr>\n",
       "    <tr>\n",
       "      <th>25</th>\n",
       "      <td>32.40</td>\n",
       "      <td>75</td>\n",
       "      <td>1009</td>\n",
       "      <td>moderate rain</td>\n",
       "      <td>1437734493</td>\n",
       "      <td>3.60</td>\n",
       "      <td>40.0000</td>\n",
       "      <td>Faenza</td>\n",
       "      <td>2015-07-24 12:41:33</td>\n",
       "      <td>37</td>\n",
       "    </tr>\n",
       "    <tr>\n",
       "      <th>26</th>\n",
       "      <td>32.74</td>\n",
       "      <td>75</td>\n",
       "      <td>1009</td>\n",
       "      <td>moderate rain</td>\n",
       "      <td>1437738046</td>\n",
       "      <td>3.60</td>\n",
       "      <td>70.0000</td>\n",
       "      <td>Faenza</td>\n",
       "      <td>2015-07-24 13:40:46</td>\n",
       "      <td>37</td>\n",
       "    </tr>\n",
       "    <tr>\n",
       "      <th>27</th>\n",
       "      <td>32.70</td>\n",
       "      <td>79</td>\n",
       "      <td>1009</td>\n",
       "      <td>moderate rain</td>\n",
       "      <td>1437741579</td>\n",
       "      <td>5.10</td>\n",
       "      <td>70.0000</td>\n",
       "      <td>Faenza</td>\n",
       "      <td>2015-07-24 14:39:39</td>\n",
       "      <td>37</td>\n",
       "    </tr>\n",
       "    <tr>\n",
       "      <th>28</th>\n",
       "      <td>32.33</td>\n",
       "      <td>70</td>\n",
       "      <td>1008</td>\n",
       "      <td>moderate rain</td>\n",
       "      <td>1437745188</td>\n",
       "      <td>3.60</td>\n",
       "      <td>60.0000</td>\n",
       "      <td>Faenza</td>\n",
       "      <td>2015-07-24 15:39:48</td>\n",
       "      <td>37</td>\n",
       "    </tr>\n",
       "    <tr>\n",
       "      <th>29</th>\n",
       "      <td>32.40</td>\n",
       "      <td>74</td>\n",
       "      <td>1008</td>\n",
       "      <td>moderate rain</td>\n",
       "      <td>1437748777</td>\n",
       "      <td>2.60</td>\n",
       "      <td>80.0000</td>\n",
       "      <td>Faenza</td>\n",
       "      <td>2015-07-24 16:39:37</td>\n",
       "      <td>37</td>\n",
       "    </tr>\n",
       "    <tr>\n",
       "      <th>...</th>\n",
       "      <td>...</td>\n",
       "      <td>...</td>\n",
       "      <td>...</td>\n",
       "      <td>...</td>\n",
       "      <td>...</td>\n",
       "      <td>...</td>\n",
       "      <td>...</td>\n",
       "      <td>...</td>\n",
       "      <td>...</td>\n",
       "      <td>...</td>\n",
       "    </tr>\n",
       "    <tr>\n",
       "      <th>37</th>\n",
       "      <td>27.22</td>\n",
       "      <td>100</td>\n",
       "      <td>1008</td>\n",
       "      <td>moderate rain</td>\n",
       "      <td>1437777556</td>\n",
       "      <td>1.50</td>\n",
       "      <td>250.0000</td>\n",
       "      <td>Faenza</td>\n",
       "      <td>2015-07-25 00:39:16</td>\n",
       "      <td>37</td>\n",
       "    </tr>\n",
       "    <tr>\n",
       "      <th>38</th>\n",
       "      <td>26.54</td>\n",
       "      <td>100</td>\n",
       "      <td>1007</td>\n",
       "      <td>moderate rain</td>\n",
       "      <td>1437781277</td>\n",
       "      <td>0.50</td>\n",
       "      <td>170.0000</td>\n",
       "      <td>Faenza</td>\n",
       "      <td>2015-07-25 01:41:17</td>\n",
       "      <td>37</td>\n",
       "    </tr>\n",
       "    <tr>\n",
       "      <th>39</th>\n",
       "      <td>25.93</td>\n",
       "      <td>100</td>\n",
       "      <td>1007</td>\n",
       "      <td>moderate rain</td>\n",
       "      <td>1437784850</td>\n",
       "      <td>1.00</td>\n",
       "      <td>250.0000</td>\n",
       "      <td>Faenza</td>\n",
       "      <td>2015-07-25 02:40:50</td>\n",
       "      <td>37</td>\n",
       "    </tr>\n",
       "    <tr>\n",
       "      <th>40</th>\n",
       "      <td>25.53</td>\n",
       "      <td>100</td>\n",
       "      <td>1007</td>\n",
       "      <td>moderate rain</td>\n",
       "      <td>1437788407</td>\n",
       "      <td>2.37</td>\n",
       "      <td>210.5040</td>\n",
       "      <td>Faenza</td>\n",
       "      <td>2015-07-25 03:40:07</td>\n",
       "      <td>37</td>\n",
       "    </tr>\n",
       "    <tr>\n",
       "      <th>41</th>\n",
       "      <td>25.01</td>\n",
       "      <td>94</td>\n",
       "      <td>1007</td>\n",
       "      <td>moderate rain</td>\n",
       "      <td>1437792027</td>\n",
       "      <td>3.32</td>\n",
       "      <td>224.0040</td>\n",
       "      <td>Faenza</td>\n",
       "      <td>2015-07-25 04:40:27</td>\n",
       "      <td>37</td>\n",
       "    </tr>\n",
       "    <tr>\n",
       "      <th>42</th>\n",
       "      <td>24.03</td>\n",
       "      <td>94</td>\n",
       "      <td>1007</td>\n",
       "      <td>moderate rain</td>\n",
       "      <td>1437795653</td>\n",
       "      <td>1.00</td>\n",
       "      <td>230.0000</td>\n",
       "      <td>Faenza</td>\n",
       "      <td>2015-07-25 05:40:53</td>\n",
       "      <td>37</td>\n",
       "    </tr>\n",
       "    <tr>\n",
       "      <th>43</th>\n",
       "      <td>24.77</td>\n",
       "      <td>94</td>\n",
       "      <td>1007</td>\n",
       "      <td>moderate rain</td>\n",
       "      <td>1437799262</td>\n",
       "      <td>1.00</td>\n",
       "      <td>230.0000</td>\n",
       "      <td>Faenza</td>\n",
       "      <td>2015-07-25 06:41:02</td>\n",
       "      <td>37</td>\n",
       "    </tr>\n",
       "    <tr>\n",
       "      <th>44</th>\n",
       "      <td>25.59</td>\n",
       "      <td>94</td>\n",
       "      <td>1008</td>\n",
       "      <td>Sky is Clear</td>\n",
       "      <td>1437802784</td>\n",
       "      <td>2.61</td>\n",
       "      <td>254.0010</td>\n",
       "      <td>Faenza</td>\n",
       "      <td>2015-07-25 07:39:44</td>\n",
       "      <td>37</td>\n",
       "    </tr>\n",
       "    <tr>\n",
       "      <th>45</th>\n",
       "      <td>27.23</td>\n",
       "      <td>83</td>\n",
       "      <td>1008</td>\n",
       "      <td>Sky is Clear</td>\n",
       "      <td>1437806426</td>\n",
       "      <td>2.61</td>\n",
       "      <td>254.0010</td>\n",
       "      <td>Faenza</td>\n",
       "      <td>2015-07-25 08:40:26</td>\n",
       "      <td>37</td>\n",
       "    </tr>\n",
       "    <tr>\n",
       "      <th>46</th>\n",
       "      <td>30.20</td>\n",
       "      <td>70</td>\n",
       "      <td>1008</td>\n",
       "      <td>Sky is Clear</td>\n",
       "      <td>1437809988</td>\n",
       "      <td>2.10</td>\n",
       "      <td>250.0000</td>\n",
       "      <td>Faenza</td>\n",
       "      <td>2015-07-25 09:39:48</td>\n",
       "      <td>37</td>\n",
       "    </tr>\n",
       "    <tr>\n",
       "      <th>47</th>\n",
       "      <td>31.12</td>\n",
       "      <td>70</td>\n",
       "      <td>1008</td>\n",
       "      <td>moderate rain</td>\n",
       "      <td>1437813634</td>\n",
       "      <td>3.60</td>\n",
       "      <td>260.0000</td>\n",
       "      <td>Faenza</td>\n",
       "      <td>2015-07-25 10:40:34</td>\n",
       "      <td>37</td>\n",
       "    </tr>\n",
       "    <tr>\n",
       "      <th>48</th>\n",
       "      <td>25.44</td>\n",
       "      <td>69</td>\n",
       "      <td>1018</td>\n",
       "      <td>very heavy rain</td>\n",
       "      <td>1435390925</td>\n",
       "      <td>1.29</td>\n",
       "      <td>14.5002</td>\n",
       "      <td>Faenza</td>\n",
       "      <td>2015-06-27 09:42:05</td>\n",
       "      <td>37</td>\n",
       "    </tr>\n",
       "    <tr>\n",
       "      <th>49</th>\n",
       "      <td>26.38</td>\n",
       "      <td>73</td>\n",
       "      <td>1017</td>\n",
       "      <td>very heavy rain</td>\n",
       "      <td>1435394243</td>\n",
       "      <td>2.10</td>\n",
       "      <td>100.0000</td>\n",
       "      <td>Faenza</td>\n",
       "      <td>2015-06-27 10:37:23</td>\n",
       "      <td>37</td>\n",
       "    </tr>\n",
       "    <tr>\n",
       "      <th>50</th>\n",
       "      <td>27.70</td>\n",
       "      <td>69</td>\n",
       "      <td>1017</td>\n",
       "      <td>very heavy rain</td>\n",
       "      <td>1435399019</td>\n",
       "      <td>3.10</td>\n",
       "      <td>120.0000</td>\n",
       "      <td>Faenza</td>\n",
       "      <td>2015-06-27 11:56:59</td>\n",
       "      <td>37</td>\n",
       "    </tr>\n",
       "    <tr>\n",
       "      <th>51</th>\n",
       "      <td>29.04</td>\n",
       "      <td>61</td>\n",
       "      <td>1016</td>\n",
       "      <td>very heavy rain</td>\n",
       "      <td>1435402422</td>\n",
       "      <td>3.10</td>\n",
       "      <td>110.0000</td>\n",
       "      <td>Faenza</td>\n",
       "      <td>2015-06-27 12:53:42</td>\n",
       "      <td>37</td>\n",
       "    </tr>\n",
       "    <tr>\n",
       "      <th>52</th>\n",
       "      <td>29.11</td>\n",
       "      <td>69</td>\n",
       "      <td>1016</td>\n",
       "      <td>very heavy rain</td>\n",
       "      <td>1435406058</td>\n",
       "      <td>3.60</td>\n",
       "      <td>110.0000</td>\n",
       "      <td>Faenza</td>\n",
       "      <td>2015-06-27 13:54:18</td>\n",
       "      <td>37</td>\n",
       "    </tr>\n",
       "    <tr>\n",
       "      <th>53</th>\n",
       "      <td>29.33</td>\n",
       "      <td>65</td>\n",
       "      <td>1015</td>\n",
       "      <td>very heavy rain</td>\n",
       "      <td>1435409704</td>\n",
       "      <td>5.70</td>\n",
       "      <td>110.0000</td>\n",
       "      <td>Faenza</td>\n",
       "      <td>2015-06-27 14:55:04</td>\n",
       "      <td>37</td>\n",
       "    </tr>\n",
       "    <tr>\n",
       "      <th>54</th>\n",
       "      <td>29.20</td>\n",
       "      <td>65</td>\n",
       "      <td>1014</td>\n",
       "      <td>very heavy rain</td>\n",
       "      <td>1435416898</td>\n",
       "      <td>5.10</td>\n",
       "      <td>110.0000</td>\n",
       "      <td>Faenza</td>\n",
       "      <td>2015-06-27 16:54:58</td>\n",
       "      <td>37</td>\n",
       "    </tr>\n",
       "    <tr>\n",
       "      <th>55</th>\n",
       "      <td>28.88</td>\n",
       "      <td>65</td>\n",
       "      <td>1014</td>\n",
       "      <td>very heavy rain</td>\n",
       "      <td>1435420542</td>\n",
       "      <td>6.20</td>\n",
       "      <td>120.0000</td>\n",
       "      <td>Faenza</td>\n",
       "      <td>2015-06-27 17:55:42</td>\n",
       "      <td>37</td>\n",
       "    </tr>\n",
       "    <tr>\n",
       "      <th>56</th>\n",
       "      <td>27.53</td>\n",
       "      <td>65</td>\n",
       "      <td>1014</td>\n",
       "      <td>very heavy rain</td>\n",
       "      <td>1435424296</td>\n",
       "      <td>6.70</td>\n",
       "      <td>120.0000</td>\n",
       "      <td>Faenza</td>\n",
       "      <td>2015-06-27 18:58:16</td>\n",
       "      <td>37</td>\n",
       "    </tr>\n",
       "    <tr>\n",
       "      <th>57</th>\n",
       "      <td>26.12</td>\n",
       "      <td>73</td>\n",
       "      <td>1013</td>\n",
       "      <td>very heavy rain</td>\n",
       "      <td>1435427936</td>\n",
       "      <td>6.20</td>\n",
       "      <td>120.0000</td>\n",
       "      <td>Faenza</td>\n",
       "      <td>2015-06-27 19:58:56</td>\n",
       "      <td>37</td>\n",
       "    </tr>\n",
       "    <tr>\n",
       "      <th>58</th>\n",
       "      <td>22.32</td>\n",
       "      <td>94</td>\n",
       "      <td>1015</td>\n",
       "      <td>very heavy rain</td>\n",
       "      <td>1435438357</td>\n",
       "      <td>2.60</td>\n",
       "      <td>90.0000</td>\n",
       "      <td>Faenza</td>\n",
       "      <td>2015-06-27 22:52:37</td>\n",
       "      <td>37</td>\n",
       "    </tr>\n",
       "    <tr>\n",
       "      <th>59</th>\n",
       "      <td>21.38</td>\n",
       "      <td>83</td>\n",
       "      <td>1016</td>\n",
       "      <td>very heavy rain</td>\n",
       "      <td>1435442241</td>\n",
       "      <td>5.70</td>\n",
       "      <td>90.0000</td>\n",
       "      <td>Faenza</td>\n",
       "      <td>2015-06-27 23:57:21</td>\n",
       "      <td>37</td>\n",
       "    </tr>\n",
       "    <tr>\n",
       "      <th>60</th>\n",
       "      <td>21.16</td>\n",
       "      <td>83</td>\n",
       "      <td>1016</td>\n",
       "      <td>very heavy rain</td>\n",
       "      <td>1435445863</td>\n",
       "      <td>2.10</td>\n",
       "      <td>210.0000</td>\n",
       "      <td>Faenza</td>\n",
       "      <td>2015-06-28 00:57:43</td>\n",
       "      <td>37</td>\n",
       "    </tr>\n",
       "    <tr>\n",
       "      <th>61</th>\n",
       "      <td>20.00</td>\n",
       "      <td>94</td>\n",
       "      <td>1016</td>\n",
       "      <td>very heavy rain</td>\n",
       "      <td>1435453232</td>\n",
       "      <td>1.39</td>\n",
       "      <td>218.5040</td>\n",
       "      <td>Faenza</td>\n",
       "      <td>2015-06-28 03:00:32</td>\n",
       "      <td>37</td>\n",
       "    </tr>\n",
       "    <tr>\n",
       "      <th>62</th>\n",
       "      <td>19.48</td>\n",
       "      <td>93</td>\n",
       "      <td>1016</td>\n",
       "      <td>very heavy rain</td>\n",
       "      <td>1435456487</td>\n",
       "      <td>2.10</td>\n",
       "      <td>330.0000</td>\n",
       "      <td>Faenza</td>\n",
       "      <td>2015-06-28 03:54:47</td>\n",
       "      <td>37</td>\n",
       "    </tr>\n",
       "    <tr>\n",
       "      <th>63</th>\n",
       "      <td>19.16</td>\n",
       "      <td>93</td>\n",
       "      <td>1016</td>\n",
       "      <td>very heavy rain</td>\n",
       "      <td>1435460042</td>\n",
       "      <td>1.50</td>\n",
       "      <td>320.0000</td>\n",
       "      <td>Faenza</td>\n",
       "      <td>2015-06-28 04:54:02</td>\n",
       "      <td>37</td>\n",
       "    </tr>\n",
       "    <tr>\n",
       "      <th>64</th>\n",
       "      <td>18.62</td>\n",
       "      <td>93</td>\n",
       "      <td>1016</td>\n",
       "      <td>very heavy rain</td>\n",
       "      <td>1435463880</td>\n",
       "      <td>0.50</td>\n",
       "      <td>300.0000</td>\n",
       "      <td>Faenza</td>\n",
       "      <td>2015-06-28 05:58:00</td>\n",
       "      <td>37</td>\n",
       "    </tr>\n",
       "    <tr>\n",
       "      <th>65</th>\n",
       "      <td>19.34</td>\n",
       "      <td>88</td>\n",
       "      <td>1016</td>\n",
       "      <td>very heavy rain</td>\n",
       "      <td>1435467179</td>\n",
       "      <td>0.50</td>\n",
       "      <td>270.0000</td>\n",
       "      <td>Faenza</td>\n",
       "      <td>2015-06-28 06:52:59</td>\n",
       "      <td>37</td>\n",
       "    </tr>\n",
       "    <tr>\n",
       "      <th>66</th>\n",
       "      <td>21.05</td>\n",
       "      <td>88</td>\n",
       "      <td>1016</td>\n",
       "      <td>very heavy rain</td>\n",
       "      <td>1435470851</td>\n",
       "      <td>2.10</td>\n",
       "      <td>260.0000</td>\n",
       "      <td>Faenza</td>\n",
       "      <td>2015-06-28 07:54:11</td>\n",
       "      <td>37</td>\n",
       "    </tr>\n",
       "  </tbody>\n",
       "</table>\n",
       "<p>67 rows × 10 columns</p>\n",
       "</div>"
      ],
      "text/plain": [
       "     temp  humidity  pressure      description          dt  wind_speed  \\\n",
       "0   29.40        83      1015    moderate rain  1436863177        3.62   \n",
       "1   30.12        78      1015    moderate rain  1436866759        3.10   \n",
       "2   30.10        78      1015    moderate rain  1436870510        3.60   \n",
       "3   30.75        74      1015    moderate rain  1436874099        4.60   \n",
       "4   30.71        66      1015    moderate rain  1436877646        5.10   \n",
       "5   31.29        66      1015    moderate rain  1436881330        5.70   \n",
       "6   31.29        66      1014    moderate rain  1436884929        5.70   \n",
       "7   30.40        66      1014    moderate rain  1436888513        5.70   \n",
       "8   30.67        62      1014    moderate rain  1436892134        5.70   \n",
       "9   29.68        65      1014    moderate rain  1436895723        4.60   \n",
       "10  28.07        74      1014    moderate rain  1436899337        4.10   \n",
       "11  27.10        83      1014    moderate rain  1436902943        2.60   \n",
       "12  26.19        94      1014    moderate rain  1436906533        2.10   \n",
       "13  25.51        94      1014    moderate rain  1436910150        2.41   \n",
       "14  24.90        94      1015    moderate rain  1436913739        1.21   \n",
       "15  24.46        94      1015    moderate rain  1436917313        1.00   \n",
       "16  24.19        88      1015    moderate rain  1436920932        1.50   \n",
       "17  23.99        94      1015     Sky is Clear  1436924427        0.50   \n",
       "18  23.00        88      1015     Sky is Clear  1436928078        1.12   \n",
       "19  23.00        88      1015     Sky is Clear  1436931718        1.12   \n",
       "20  22.51        88      1015     Sky is Clear  1436935299        1.52   \n",
       "21  23.01        94      1015     Sky is Clear  1436938883        1.52   \n",
       "22  25.00        88      1016     Sky is Clear  1436942516        1.00   \n",
       "23  27.51        88      1016     Sky is Clear  1436945951        2.57   \n",
       "24  32.08        79      1010    moderate rain  1437730850        1.50   \n",
       "25  32.40        75      1009    moderate rain  1437734493        3.60   \n",
       "26  32.74        75      1009    moderate rain  1437738046        3.60   \n",
       "27  32.70        79      1009    moderate rain  1437741579        5.10   \n",
       "28  32.33        70      1008    moderate rain  1437745188        3.60   \n",
       "29  32.40        74      1008    moderate rain  1437748777        2.60   \n",
       "..    ...       ...       ...              ...         ...         ...   \n",
       "37  27.22       100      1008    moderate rain  1437777556        1.50   \n",
       "38  26.54       100      1007    moderate rain  1437781277        0.50   \n",
       "39  25.93       100      1007    moderate rain  1437784850        1.00   \n",
       "40  25.53       100      1007    moderate rain  1437788407        2.37   \n",
       "41  25.01        94      1007    moderate rain  1437792027        3.32   \n",
       "42  24.03        94      1007    moderate rain  1437795653        1.00   \n",
       "43  24.77        94      1007    moderate rain  1437799262        1.00   \n",
       "44  25.59        94      1008     Sky is Clear  1437802784        2.61   \n",
       "45  27.23        83      1008     Sky is Clear  1437806426        2.61   \n",
       "46  30.20        70      1008     Sky is Clear  1437809988        2.10   \n",
       "47  31.12        70      1008    moderate rain  1437813634        3.60   \n",
       "48  25.44        69      1018  very heavy rain  1435390925        1.29   \n",
       "49  26.38        73      1017  very heavy rain  1435394243        2.10   \n",
       "50  27.70        69      1017  very heavy rain  1435399019        3.10   \n",
       "51  29.04        61      1016  very heavy rain  1435402422        3.10   \n",
       "52  29.11        69      1016  very heavy rain  1435406058        3.60   \n",
       "53  29.33        65      1015  very heavy rain  1435409704        5.70   \n",
       "54  29.20        65      1014  very heavy rain  1435416898        5.10   \n",
       "55  28.88        65      1014  very heavy rain  1435420542        6.20   \n",
       "56  27.53        65      1014  very heavy rain  1435424296        6.70   \n",
       "57  26.12        73      1013  very heavy rain  1435427936        6.20   \n",
       "58  22.32        94      1015  very heavy rain  1435438357        2.60   \n",
       "59  21.38        83      1016  very heavy rain  1435442241        5.70   \n",
       "60  21.16        83      1016  very heavy rain  1435445863        2.10   \n",
       "61  20.00        94      1016  very heavy rain  1435453232        1.39   \n",
       "62  19.48        93      1016  very heavy rain  1435456487        2.10   \n",
       "63  19.16        93      1016  very heavy rain  1435460042        1.50   \n",
       "64  18.62        93      1016  very heavy rain  1435463880        0.50   \n",
       "65  19.34        88      1016  very heavy rain  1435467179        0.50   \n",
       "66  21.05        88      1016  very heavy rain  1435470851        2.10   \n",
       "\n",
       "    wind_deg    city                  day  dist  \n",
       "0    94.0010  Faenza  2015-07-14 10:39:37    37  \n",
       "1    80.0000  Faenza  2015-07-14 11:39:19    37  \n",
       "2    70.0000  Faenza  2015-07-14 12:41:50    37  \n",
       "3    90.0000  Faenza  2015-07-14 13:41:39    37  \n",
       "4   100.0000  Faenza  2015-07-14 14:40:46    37  \n",
       "5    90.0000  Faenza  2015-07-14 15:42:10    37  \n",
       "6   100.0000  Faenza  2015-07-14 16:42:09    37  \n",
       "7   120.0000  Faenza  2015-07-14 17:41:53    37  \n",
       "8   110.0000  Faenza  2015-07-14 18:42:14    37  \n",
       "9   120.0000  Faenza  2015-07-14 19:42:03    37  \n",
       "10  120.0000  Faenza  2015-07-14 20:42:17    37  \n",
       "11  110.0000  Faenza  2015-07-14 21:42:23    37  \n",
       "12  110.0000  Faenza  2015-07-14 22:42:13    37  \n",
       "13  116.5040  Faenza  2015-07-14 23:42:30    37  \n",
       "14  163.0010  Faenza  2015-07-15 00:42:19    37  \n",
       "15  240.0000  Faenza  2015-07-15 01:41:53    37  \n",
       "16  250.0000  Faenza  2015-07-15 02:42:12    37  \n",
       "17  250.0000  Faenza  2015-07-15 03:40:27    37  \n",
       "18  155.5030  Faenza  2015-07-15 04:41:18    37  \n",
       "19  155.5030  Faenza  2015-07-15 05:41:58    37  \n",
       "20  126.5010  Faenza  2015-07-15 06:41:39    37  \n",
       "21  126.5010  Faenza  2015-07-15 07:41:23    37  \n",
       "22  250.0000  Faenza  2015-07-15 08:41:56    37  \n",
       "23   99.0009  Faenza  2015-07-15 09:39:11    37  \n",
       "24  310.0000  Faenza  2015-07-24 11:40:50    37  \n",
       "25   40.0000  Faenza  2015-07-24 12:41:33    37  \n",
       "26   70.0000  Faenza  2015-07-24 13:40:46    37  \n",
       "27   70.0000  Faenza  2015-07-24 14:39:39    37  \n",
       "28   60.0000  Faenza  2015-07-24 15:39:48    37  \n",
       "29   80.0000  Faenza  2015-07-24 16:39:37    37  \n",
       "..       ...     ...                  ...   ...  \n",
       "37  250.0000  Faenza  2015-07-25 00:39:16    37  \n",
       "38  170.0000  Faenza  2015-07-25 01:41:17    37  \n",
       "39  250.0000  Faenza  2015-07-25 02:40:50    37  \n",
       "40  210.5040  Faenza  2015-07-25 03:40:07    37  \n",
       "41  224.0040  Faenza  2015-07-25 04:40:27    37  \n",
       "42  230.0000  Faenza  2015-07-25 05:40:53    37  \n",
       "43  230.0000  Faenza  2015-07-25 06:41:02    37  \n",
       "44  254.0010  Faenza  2015-07-25 07:39:44    37  \n",
       "45  254.0010  Faenza  2015-07-25 08:40:26    37  \n",
       "46  250.0000  Faenza  2015-07-25 09:39:48    37  \n",
       "47  260.0000  Faenza  2015-07-25 10:40:34    37  \n",
       "48   14.5002  Faenza  2015-06-27 09:42:05    37  \n",
       "49  100.0000  Faenza  2015-06-27 10:37:23    37  \n",
       "50  120.0000  Faenza  2015-06-27 11:56:59    37  \n",
       "51  110.0000  Faenza  2015-06-27 12:53:42    37  \n",
       "52  110.0000  Faenza  2015-06-27 13:54:18    37  \n",
       "53  110.0000  Faenza  2015-06-27 14:55:04    37  \n",
       "54  110.0000  Faenza  2015-06-27 16:54:58    37  \n",
       "55  120.0000  Faenza  2015-06-27 17:55:42    37  \n",
       "56  120.0000  Faenza  2015-06-27 18:58:16    37  \n",
       "57  120.0000  Faenza  2015-06-27 19:58:56    37  \n",
       "58   90.0000  Faenza  2015-06-27 22:52:37    37  \n",
       "59   90.0000  Faenza  2015-06-27 23:57:21    37  \n",
       "60  210.0000  Faenza  2015-06-28 00:57:43    37  \n",
       "61  218.5040  Faenza  2015-06-28 03:00:32    37  \n",
       "62  330.0000  Faenza  2015-06-28 03:54:47    37  \n",
       "63  320.0000  Faenza  2015-06-28 04:54:02    37  \n",
       "64  300.0000  Faenza  2015-06-28 05:58:00    37  \n",
       "65  270.0000  Faenza  2015-06-28 06:52:59    37  \n",
       "66  260.0000  Faenza  2015-06-28 07:54:11    37  \n",
       "\n",
       "[67 rows x 10 columns]"
      ]
     },
     "execution_count": 142,
     "metadata": {},
     "output_type": "execute_result"
    }
   ],
   "source": [
    "faenza"
   ]
  },
  {
   "cell_type": "code",
   "execution_count": 199,
   "metadata": {},
   "outputs": [],
   "source": [
    "def draw_rose(city,feature1,feature2):\n",
    "    bins = np.array([0,45,90,135,180,225,270,315])\n",
    "    faenza_speeds = []\n",
    "    for deg in bins:\n",
    "        speed = city[feature1][(city[feature2] < deg+45) & (city[feature2] >= deg)].mean()\n",
    "        faenza_speeds.append(speed)\n",
    "    height = faenza_speeds\n",
    "    index = np.array([0,45,90,135,180,225,270,315])\n",
    "    index = index*np.pi/180\n",
    "    plt.axes(polar=True)\n",
    "    color = np.random.random(size=(8,3))\n",
    "    plt.bar(x=index,height=height,color=color,align='edge')\n",
    "    t = feature1 + '-' + feature2 + ' of ' + city['city'][0]\n",
    "    plt.title(t)"
   ]
  },
  {
   "cell_type": "code",
   "execution_count": 200,
   "metadata": {
    "collapsed": true
   },
   "outputs": [
    {
     "data": {
      "image/png": "[encoded data removed]",
      "text/plain": [
       "<matplotlib.figure.Figure at 0x19eb7f50>"
      ]
     },
     "metadata": {},
     "output_type": "display_data"
    }
   ],
   "source": [
    "draw_rose(faenza,'wind_speed','wind_deg')"
   ]
  },
  {
   "cell_type": "markdown",
   "metadata": {},
   "source": [
    "首先自定义一个画图函数"
   ]
  },
  {
   "cell_type": "markdown",
   "metadata": {},
   "source": [
    "用numpy创建一个直方图，将360度划分为8个面元，将数据分类到这8个面元中"
   ]
  },
  {
   "cell_type": "markdown",
   "metadata": {},
   "source": [
    "计算米兰各个方向上的风速"
   ]
  },
  {
   "cell_type": "code",
   "execution_count": 201,
   "metadata": {
    "collapsed": true
   },
   "outputs": [
    {
     "data": {
      "image/png": "[encoded data removed]",
      "text/plain": [
       "<matplotlib.figure.Figure at 0x18c642b0>"
      ]
     },
     "metadata": {},
     "output_type": "display_data"
    }
   ],
   "source": [
    "draw_rose(milano,'wind_speed','wind_deg')"
   ]
  },
  {
   "cell_type": "code",
   "execution_count": 205,
   "metadata": {},
   "outputs": [
    {
     "data": {
      "image/png": "[encoded data removed]",
      "text/plain": [
       "<matplotlib.figure.Figure at 0x1830d330>"
      ]
     },
     "metadata": {},
     "output_type": "display_data"
    }
   ],
   "source": [
    "draw_rose(faenza,'humidity','wind_deg')"
   ]
  },
  {
   "cell_type": "markdown",
   "metadata": {},
   "source": [
    "将各个方向的风速保存在列表中"
   ]
  },
  {
   "cell_type": "markdown",
   "metadata": {},
   "source": [
    "画出各个方向的风速"
   ]
  },
  {
   "cell_type": "markdown",
   "metadata": {},
   "source": [
    "将上面步骤写成函数"
   ]
  }
 ],
 "metadata": {
  "kernelspec": {
   "display_name": "Python 3",
   "language": "python",
   "name": "python3"
  },
  "language_info": {
   "codemirror_mode": {
    "name": "ipython",
    "version": 3
   },
   "file_extension": ".py",
   "mimetype": "text/x-python",
   "name": "python",
   "nbconvert_exporter": "python",
   "pygments_lexer": "ipython3",
   "version": "3.7.0"
  }
 },
 "nbformat": 4,
 "nbformat_minor": 2
}
