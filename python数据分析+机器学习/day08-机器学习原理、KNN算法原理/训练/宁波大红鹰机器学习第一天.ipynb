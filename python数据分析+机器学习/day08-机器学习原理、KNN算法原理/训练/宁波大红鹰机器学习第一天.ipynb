{
 "cells": [
  {
   "cell_type": "code",
   "execution_count": 1,
   "metadata": {},
   "outputs": [],
   "source": [
    "import numpy as np\n",
    "import operator\n",
    "import collections"
   ]
  },
  {
   "cell_type": "code",
   "execution_count": 102,
   "metadata": {},
   "outputs": [],
   "source": [
    "\"\"\"\n",
    "    函数说明：创建数据集\n",
    "    Parameters：\n",
    "        无\n",
    "    Returns\n",
    "        group-数据集\n",
    "        labels-分类器\n",
    "    Modify:\n",
    "        2018-11-17\n",
    "    DD   B   A  \n",
    "\"\"\"\n",
    "def createDataSet():\n",
    "#     四组的二维特征\n",
    "    group=np.array([[1,101],[5,89],[108,5],[80,10]])\n",
    "#     四组特征对应的标签\n",
    "    labels=['动作片','动作片','爱情片','爱情片']\n",
    "    return group,labels"
   ]
  },
  {
   "cell_type": "code",
   "execution_count": 103,
   "metadata": {},
   "outputs": [],
   "source": [
    "def classify(inx,dataset,lables,k):\n",
    "#     计算距离\n",
    "    dist=np.sum((inx-dataset)**2,axis=1)**0.5\n",
    "    print(dist)\n",
    "    print(dist.argsort()[0:3])\n",
    "    k_labels=[labels[index] for index in dist.argsort()[0:k]]\n",
    "#     print(collections.Counter(k_labels).most_common(1)[0][0])\n",
    "    label=collections.Counter(k_labels).most_common(1)[0][0]\n",
    "    return label"
   ]
  },
  {
   "cell_type": "code",
   "execution_count": 279,
   "metadata": {},
   "outputs": [
    {
     "name": "stdout",
     "output_type": "stream",
     "text": [
      "[140.00714267 146.1027036  195.16403357 191.04973175]\n",
      "[0 1 3]\n",
      "动作片\n"
     ]
    }
   ],
   "source": [
    "if __name__ =='__main__':\n",
    "#     创建数据集\n",
    "    group,labels=createDataSet()\n",
    "#     print(group)\n",
    "#     print(labels)\n",
    "    test=[100,200]\n",
    "    test_class=classify(test,group,labels,3)\n",
    "    print(test_class)"
   ]
  },
  {
   "cell_type": "code",
   "execution_count": 67,
   "metadata": {},
   "outputs": [
    {
     "data": {
      "text/plain": [
       "array([1, 2, 0, 3], dtype=int64)"
      ]
     },
     "execution_count": 67,
     "metadata": {},
     "output_type": "execute_result"
    }
   ],
   "source": [
    "a=np.array([10,5,8,20])\n",
    "a.argsort()"
   ]
  },
  {
   "cell_type": "code",
   "execution_count": 37,
   "metadata": {},
   "outputs": [
    {
     "name": "stdout",
     "output_type": "stream",
     "text": [
      "0\n",
      "动作片\n",
      "1\n",
      "动作片\n",
      "3\n",
      "爱情片\n"
     ]
    }
   ],
   "source": [
    "for index in np.array([0,1,3]):\n",
    "    print(index)\n",
    "    print(labels[index])"
   ]
  },
  {
   "cell_type": "code",
   "execution_count": 71,
   "metadata": {},
   "outputs": [],
   "source": [
    "#处理分类问题\n",
    "from sklearn.neighbors import KNeighborsClassifier\n",
    "#处理回归问题\n",
    "from sklearn.neighbors import KNeighborsRegressor"
   ]
  },
  {
   "cell_type": "code",
   "execution_count": 72,
   "metadata": {},
   "outputs": [],
   "source": [
    "# 构建KNN分类器对象   \n",
    "# n_neighbors  应设置为一个奇数   一般不大于20  表示距离预测样本最近的n个样本点\n",
    "knnclf=KNeighborsClassifier(n_neighbors=5)"
   ]
  },
  {
   "cell_type": "code",
   "execution_count": 84,
   "metadata": {},
   "outputs": [],
   "source": [
    "import numpy as np\n",
    "import pandas as pd\n",
    "from pandas import Series,DataFrame"
   ]
  },
  {
   "cell_type": "code",
   "execution_count": 94,
   "metadata": {},
   "outputs": [
    {
     "data": {
      "text/plain": [
       "array([[19,  1],\n",
       "       [ 2, 18],\n",
       "       [25,  1],\n",
       "       [24,  3],\n",
       "       [ 3, 17],\n",
       "       [ 5, 10],\n",
       "       [ 7,  8],\n",
       "       [ 5,  4],\n",
       "       [ 5,  3]])"
      ]
     },
     "metadata": {},
     "output_type": "display_data"
    },
    {
     "data": {
      "text/plain": [
       "array(['动作', '爱情', '动作', '动作', '爱情', '爱情', '爱情', '动作', '动作'], dtype='<U2')"
      ]
     },
     "metadata": {},
     "output_type": "display_data"
    }
   ],
   "source": [
    "#X_train对应的二维数组   第一列为动作镜头数   第二列为接吻镜头数  训练数据\n",
    "X_train=np.array([[19,1],[2,18],[25,1],[24,3],[3,17],[5,10],[7,8],[5,4],[5,3]])\n",
    "Y_train=np.array(['动作','爱情','动作','动作','爱情','爱情','爱情','动作','动作'])\n",
    "display(X_train,Y_train)"
   ]
  },
  {
   "cell_type": "code",
   "execution_count": 95,
   "metadata": {},
   "outputs": [
    {
     "data": {
      "text/plain": [
       "KNeighborsClassifier(algorithm='auto', leaf_size=30, metric='minkowski',\n",
       "           metric_params=None, n_jobs=1, n_neighbors=5, p=2,\n",
       "           weights='uniform')"
      ]
     },
     "execution_count": 95,
     "metadata": {},
     "output_type": "execute_result"
    }
   ],
   "source": [
    "# 训练分类器模型\n",
    "knnclf.fit(X_train,Y_train)"
   ]
  },
  {
   "cell_type": "code",
   "execution_count": 101,
   "metadata": {},
   "outputs": [
    {
     "data": {
      "text/plain": [
       "array(['动作', '爱情'], dtype='<U2')"
      ]
     },
     "execution_count": 101,
     "metadata": {},
     "output_type": "execute_result"
    }
   ],
   "source": [
    "X_test=np.array([[13,10],[5,10]])\n",
    "# 预测\n",
    "knnclf.predict(X_test)"
   ]
  },
  {
   "cell_type": "code",
   "execution_count": 111,
   "metadata": {},
   "outputs": [],
   "source": [
    "#预测男女性别\n",
    "from sklearn.neighbors import KNeighborsClassifier\n",
    "import numpy as np"
   ]
  },
  {
   "cell_type": "code",
   "execution_count": 112,
   "metadata": {
    "scrolled": true
   },
   "outputs": [
    {
     "data": {
      "text/plain": [
       "array([[181,  80,  44],\n",
       "       [177,  70,  43],\n",
       "       [160,  60,  38],\n",
       "       [154,  54,  37],\n",
       "       [166,  65,  40],\n",
       "       [190,  90,  47],\n",
       "       [175,  64,  39],\n",
       "       [177,  70,  40],\n",
       "       [159,  55,  37],\n",
       "       [171,  75,  42],\n",
       "       [181,  85,  43]])"
      ]
     },
     "metadata": {},
     "output_type": "display_data"
    },
    {
     "data": {
      "text/plain": [
       "['male',\n",
       " 'male',\n",
       " 'female',\n",
       " 'female',\n",
       " 'male',\n",
       " 'male',\n",
       " 'female',\n",
       " 'female',\n",
       " 'female',\n",
       " 'male',\n",
       " 'male']"
      ]
     },
     "metadata": {},
     "output_type": "display_data"
    }
   ],
   "source": [
    "neigh=KNeighborsClassifier(n_neighbors=3)\n",
    "# 训练数据   根据身高  体重  鞋号预测男女性别\n",
    "X=np.array([[181,80,44],[177,70,43],[160,60,38],[154,54,37],\n",
    "           [166,65,40],[190,90,47],[175,64,39],[177,70,40],\n",
    "           [159,55,37],[171,75,42],[181,85,43]])\n",
    "display(X)\n",
    "y=['male','male','female','female','male',\n",
    "  'male','female','female','female','male',\n",
    "  'male']\n",
    "display(y)"
   ]
  },
  {
   "cell_type": "code",
   "execution_count": 115,
   "metadata": {},
   "outputs": [
    {
     "data": {
      "text/plain": [
       "KNeighborsClassifier(algorithm='auto', leaf_size=30, metric='minkowski',\n",
       "           metric_params=None, n_jobs=1, n_neighbors=3, p=2,\n",
       "           weights='uniform')"
      ]
     },
     "execution_count": 115,
     "metadata": {},
     "output_type": "execute_result"
    }
   ],
   "source": [
    "# 训练模型\n",
    "neigh.fit(X,y)"
   ]
  },
  {
   "cell_type": "code",
   "execution_count": 129,
   "metadata": {
    "scrolled": true
   },
   "outputs": [
    {
     "name": "stdout",
     "output_type": "stream",
     "text": [
      "['male' 'female' 'female' 'male']\n"
     ]
    }
   ],
   "source": [
    "# 预测数据\n",
    "Z=neigh.predict(np.array([[178,77,44],[155,60,39],[178,71,44]]))\n",
    "print(Z)"
   ]
  },
  {
   "cell_type": "code",
   "execution_count": 133,
   "metadata": {
    "scrolled": true
   },
   "outputs": [
    {
     "name": "stdout",
     "output_type": "stream",
     "text": [
      "3 4\n"
     ]
    }
   ],
   "source": [
    "nx,ny=3,4\n",
    "print(nx,ny)"
   ]
  },
  {
   "cell_type": "code",
   "execution_count": 136,
   "metadata": {},
   "outputs": [
    {
     "name": "stdout",
     "output_type": "stream",
     "text": [
      "[0.  0.5 1. ]\n"
     ]
    }
   ],
   "source": [
    "x=np.linspace(0,1,nx)\n",
    "print(x)"
   ]
  },
  {
   "cell_type": "code",
   "execution_count": 137,
   "metadata": {},
   "outputs": [
    {
     "name": "stdout",
     "output_type": "stream",
     "text": [
      "[0.         0.33333333 0.66666667 1.        ]\n"
     ]
    }
   ],
   "source": [
    "y=np.linspace(0,1,ny)\n",
    "print(y)"
   ]
  },
  {
   "cell_type": "code",
   "execution_count": 138,
   "metadata": {},
   "outputs": [],
   "source": [
    "xv,yv=np.meshgrid(x,y)"
   ]
  },
  {
   "cell_type": "code",
   "execution_count": 140,
   "metadata": {},
   "outputs": [
    {
     "name": "stdout",
     "output_type": "stream",
     "text": [
      "[[0.  0.5 1. ]\n",
      " [0.  0.5 1. ]\n",
      " [0.  0.5 1. ]\n",
      " [0.  0.5 1. ]] [[0.         0.         0.        ]\n",
      " [0.33333333 0.33333333 0.33333333]\n",
      " [0.66666667 0.66666667 0.66666667]\n",
      " [1.         1.         1.        ]]\n"
     ]
    }
   ],
   "source": [
    "print(xv,yv)"
   ]
  },
  {
   "cell_type": "code",
   "execution_count": 141,
   "metadata": {},
   "outputs": [
    {
     "data": {
      "text/plain": [
       "array([[1, 2, 3],\n",
       "       [4, 5, 6]])"
      ]
     },
     "metadata": {},
     "output_type": "display_data"
    },
    {
     "data": {
      "text/plain": [
       "array([1, 2, 3, 4, 5, 6])"
      ]
     },
     "metadata": {},
     "output_type": "display_data"
    }
   ],
   "source": [
    "x=np.array([[1,2,3],[4,5,6]])\n",
    "display(x,x.ravel())"
   ]
  },
  {
   "cell_type": "code",
   "execution_count": 142,
   "metadata": {},
   "outputs": [
    {
     "data": {
      "text/plain": [
       "array([[1, 4],\n",
       "       [2, 5],\n",
       "       [3, 6]])"
      ]
     },
     "execution_count": 142,
     "metadata": {},
     "output_type": "execute_result"
    }
   ],
   "source": [
    "np.c_[np.array([1,2,3]),np.array([4,5,6])]"
   ]
  },
  {
   "cell_type": "code",
   "execution_count": 143,
   "metadata": {},
   "outputs": [],
   "source": [
    "# load_iris是机器学习库自带研究算法的数据   鸢尾花\n",
    "from sklearn.datasets import load_iris"
   ]
  },
  {
   "cell_type": "code",
   "execution_count": 262,
   "metadata": {},
   "outputs": [],
   "source": [
    "# 获取训练数据\n",
    "iris=load_iris()\n",
    "# iris"
   ]
  },
  {
   "cell_type": "code",
   "execution_count": 263,
   "metadata": {},
   "outputs": [],
   "source": [
    "# 获取数据\n",
    "data=iris.data\n",
    "target=iris.target\n",
    "target_names=iris.target_names\n",
    "feature_names=iris.feature_names"
   ]
  },
  {
   "cell_type": "code",
   "execution_count": 264,
   "metadata": {},
   "outputs": [
    {
     "data": {
      "text/html": [
       "<div>\n",
       "<style scoped>\n",
       "    .dataframe tbody tr th:only-of-type {\n",
       "        vertical-align: middle;\n",
       "    }\n",
       "\n",
       "    .dataframe tbody tr th {\n",
       "        vertical-align: top;\n",
       "    }\n",
       "\n",
       "    .dataframe thead th {\n",
       "        text-align: right;\n",
       "    }\n",
       "</style>\n",
       "<table border=\"1\" class=\"dataframe\">\n",
       "  <thead>\n",
       "    <tr style=\"text-align: right;\">\n",
       "      <th></th>\n",
       "      <th>sepal length (cm)</th>\n",
       "      <th>sepal width (cm)</th>\n",
       "      <th>petal length (cm)</th>\n",
       "      <th>petal width (cm)</th>\n",
       "    </tr>\n",
       "  </thead>\n",
       "  <tbody>\n",
       "    <tr>\n",
       "      <th>0</th>\n",
       "      <td>5.1</td>\n",
       "      <td>3.5</td>\n",
       "      <td>1.4</td>\n",
       "      <td>0.2</td>\n",
       "    </tr>\n",
       "    <tr>\n",
       "      <th>1</th>\n",
       "      <td>4.9</td>\n",
       "      <td>3.0</td>\n",
       "      <td>1.4</td>\n",
       "      <td>0.2</td>\n",
       "    </tr>\n",
       "    <tr>\n",
       "      <th>2</th>\n",
       "      <td>4.7</td>\n",
       "      <td>3.2</td>\n",
       "      <td>1.3</td>\n",
       "      <td>0.2</td>\n",
       "    </tr>\n",
       "    <tr>\n",
       "      <th>3</th>\n",
       "      <td>4.6</td>\n",
       "      <td>3.1</td>\n",
       "      <td>1.5</td>\n",
       "      <td>0.2</td>\n",
       "    </tr>\n",
       "    <tr>\n",
       "      <th>4</th>\n",
       "      <td>5.0</td>\n",
       "      <td>3.6</td>\n",
       "      <td>1.4</td>\n",
       "      <td>0.2</td>\n",
       "    </tr>\n",
       "  </tbody>\n",
       "</table>\n",
       "</div>"
      ],
      "text/plain": [
       "   sepal length (cm)  sepal width (cm)  petal length (cm)  petal width (cm)\n",
       "0                5.1               3.5                1.4               0.2\n",
       "1                4.9               3.0                1.4               0.2\n",
       "2                4.7               3.2                1.3               0.2\n",
       "3                4.6               3.1                1.5               0.2\n",
       "4                5.0               3.6                1.4               0.2"
      ]
     },
     "execution_count": 264,
     "metadata": {},
     "output_type": "execute_result"
    }
   ],
   "source": [
    "from pandas import Series,DataFrame\n",
    "features=DataFrame(data=data,columns=feature_names)\n",
    "features.head()"
   ]
  },
  {
   "cell_type": "code",
   "execution_count": 265,
   "metadata": {},
   "outputs": [
    {
     "data": {
      "text/plain": [
       "0.8280661279778629"
      ]
     },
     "execution_count": 265,
     "metadata": {},
     "output_type": "execute_result"
    }
   ],
   "source": [
    "features.iloc[:,0].std()"
   ]
  },
  {
   "cell_type": "code",
   "execution_count": 266,
   "metadata": {},
   "outputs": [
    {
     "data": {
      "text/plain": [
       "0.4335943113621737"
      ]
     },
     "execution_count": 266,
     "metadata": {},
     "output_type": "execute_result"
    }
   ],
   "source": [
    "features.iloc[:,1].std()"
   ]
  },
  {
   "cell_type": "code",
   "execution_count": 267,
   "metadata": {},
   "outputs": [
    {
     "data": {
      "text/plain": [
       "1.7644204199522617"
      ]
     },
     "execution_count": 267,
     "metadata": {},
     "output_type": "execute_result"
    }
   ],
   "source": [
    "features.iloc[:,2].std()"
   ]
  },
  {
   "cell_type": "code",
   "execution_count": 268,
   "metadata": {},
   "outputs": [
    {
     "data": {
      "text/plain": [
       "0.7631607417008414"
      ]
     },
     "execution_count": 268,
     "metadata": {},
     "output_type": "execute_result"
    }
   ],
   "source": [
    "features.iloc[:,3].std()"
   ]
  },
  {
   "cell_type": "code",
   "execution_count": 269,
   "metadata": {},
   "outputs": [
    {
     "data": {
      "text/plain": [
       "(130, 2)"
      ]
     },
     "metadata": {},
     "output_type": "display_data"
    },
    {
     "data": {
      "text/plain": [
       "(130,)"
      ]
     },
     "metadata": {},
     "output_type": "display_data"
    },
    {
     "data": {
      "text/plain": [
       "(20, 2)"
      ]
     },
     "metadata": {},
     "output_type": "display_data"
    },
    {
     "data": {
      "text/plain": [
       "(20,)"
      ]
     },
     "metadata": {},
     "output_type": "display_data"
    }
   ],
   "source": [
    "# 训练数据取130条   总数据150条   \n",
    "X_train=features.iloc[0:130,2:4]\n",
    "# X_train\n",
    "y_train=target[:130]\n",
    "# print(y_train)\n",
    "# 测试数据取20条   总数据150条\n",
    "x_test=features.iloc[130:,2:4]\n",
    "y_test=target[130:]\n",
    "display(X_train.shape,y_train.shape,x_test.shape,y_test.shape)"
   ]
  },
  {
   "cell_type": "code",
   "execution_count": 270,
   "metadata": {},
   "outputs": [
    {
     "data": {
      "text/plain": [
       "array(['setosa', 'versicolor', 'virginica'], dtype='<U10')"
      ]
     },
     "execution_count": 270,
     "metadata": {},
     "output_type": "execute_result"
    }
   ],
   "source": [
    "target_names"
   ]
  },
  {
   "cell_type": "code",
   "execution_count": 271,
   "metadata": {},
   "outputs": [
    {
     "data": {
      "text/plain": [
       "array([0, 0, 0, 0, 0, 0, 0, 0, 0, 0, 0, 0, 0, 0, 0, 0, 0, 0, 0, 0, 0, 0,\n",
       "       0, 0, 0, 0, 0, 0, 0, 0, 0, 0, 0, 0, 0, 0, 0, 0, 0, 0, 0, 0, 0, 0,\n",
       "       0, 0, 0, 0, 0, 0, 1, 1, 1, 1, 1, 1, 1, 1, 1, 1, 1, 1, 1, 1, 1, 1,\n",
       "       1, 1, 1, 1, 1, 1, 1, 1, 1, 1, 1, 1, 1, 1, 1, 1, 1, 1, 1, 1, 1, 1,\n",
       "       1, 1, 1, 1, 1, 1, 1, 1, 1, 1, 1, 1, 2, 2, 2, 2, 2, 2, 2, 2, 2, 2,\n",
       "       2, 2, 2, 2, 2, 2, 2, 2, 2, 2, 2, 2, 2, 2, 2, 2, 2, 2, 2, 2, 2, 2,\n",
       "       2, 2, 2, 2, 2, 2, 2, 2, 2, 2, 2, 2, 2, 2, 2, 2, 2, 2])"
      ]
     },
     "execution_count": 271,
     "metadata": {},
     "output_type": "execute_result"
    }
   ],
   "source": [
    "target"
   ]
  },
  {
   "cell_type": "code",
   "execution_count": 273,
   "metadata": {},
   "outputs": [
    {
     "data": {
      "text/plain": [
       "<matplotlib.collections.PathCollection at 0x2190f6eccf8>"
      ]
     },
     "execution_count": 273,
     "metadata": {},
     "output_type": "execute_result"
    },
    {
     "data": {
      "image/png": "[encoded data removed]",
      "text/plain": [
       "<matplotlib.figure.Figure at 0x2190e4849b0>"
      ]
     },
     "metadata": {},
     "output_type": "display_data"
    }
   ],
   "source": [
    "import matplotlib.pyplot as plt\n",
    "%matplotlib inline\n",
    "samples=features.iloc[:,2:4]\n",
    "# display(samples)\n",
    "# 横坐标花瓣的长度    纵坐标花瓣的宽度   颜色不同代表花瓣种类不同\n",
    "plt.scatter(samples.iloc[:,0],samples.iloc[:,1],c=target)"
   ]
  },
  {
   "cell_type": "code",
   "execution_count": 274,
   "metadata": {
    "scrolled": true
   },
   "outputs": [
    {
     "data": {
      "text/plain": [
       "KNeighborsClassifier(algorithm='auto', leaf_size=30, metric='minkowski',\n",
       "           metric_params=None, n_jobs=1, n_neighbors=5, p=2,\n",
       "           weights='uniform')"
      ]
     },
     "execution_count": 274,
     "metadata": {},
     "output_type": "execute_result"
    }
   ],
   "source": [
    "# 训练数据\n",
    "knnclf.fit(X_train,y_train)"
   ]
  },
  {
   "cell_type": "code",
   "execution_count": 278,
   "metadata": {},
   "outputs": [
    {
     "data": {
      "text/html": [
       "<div>\n",
       "<style scoped>\n",
       "    .dataframe tbody tr th:only-of-type {\n",
       "        vertical-align: middle;\n",
       "    }\n",
       "\n",
       "    .dataframe tbody tr th {\n",
       "        vertical-align: top;\n",
       "    }\n",
       "\n",
       "    .dataframe thead th {\n",
       "        text-align: right;\n",
       "    }\n",
       "</style>\n",
       "<table border=\"1\" class=\"dataframe\">\n",
       "  <thead>\n",
       "    <tr style=\"text-align: right;\">\n",
       "      <th></th>\n",
       "      <th>petal length (cm)</th>\n",
       "      <th>petal width (cm)</th>\n",
       "    </tr>\n",
       "  </thead>\n",
       "  <tbody>\n",
       "    <tr>\n",
       "      <th>130</th>\n",
       "      <td>6.1</td>\n",
       "      <td>1.9</td>\n",
       "    </tr>\n",
       "    <tr>\n",
       "      <th>131</th>\n",
       "      <td>6.4</td>\n",
       "      <td>2.0</td>\n",
       "    </tr>\n",
       "    <tr>\n",
       "      <th>132</th>\n",
       "      <td>5.6</td>\n",
       "      <td>2.2</td>\n",
       "    </tr>\n",
       "    <tr>\n",
       "      <th>133</th>\n",
       "      <td>5.1</td>\n",
       "      <td>1.5</td>\n",
       "    </tr>\n",
       "    <tr>\n",
       "      <th>134</th>\n",
       "      <td>5.6</td>\n",
       "      <td>1.4</td>\n",
       "    </tr>\n",
       "    <tr>\n",
       "      <th>135</th>\n",
       "      <td>6.1</td>\n",
       "      <td>2.3</td>\n",
       "    </tr>\n",
       "    <tr>\n",
       "      <th>136</th>\n",
       "      <td>5.6</td>\n",
       "      <td>2.4</td>\n",
       "    </tr>\n",
       "    <tr>\n",
       "      <th>137</th>\n",
       "      <td>5.5</td>\n",
       "      <td>1.8</td>\n",
       "    </tr>\n",
       "    <tr>\n",
       "      <th>138</th>\n",
       "      <td>4.8</td>\n",
       "      <td>1.8</td>\n",
       "    </tr>\n",
       "    <tr>\n",
       "      <th>139</th>\n",
       "      <td>5.4</td>\n",
       "      <td>2.1</td>\n",
       "    </tr>\n",
       "    <tr>\n",
       "      <th>140</th>\n",
       "      <td>5.6</td>\n",
       "      <td>2.4</td>\n",
       "    </tr>\n",
       "    <tr>\n",
       "      <th>141</th>\n",
       "      <td>5.1</td>\n",
       "      <td>2.3</td>\n",
       "    </tr>\n",
       "    <tr>\n",
       "      <th>142</th>\n",
       "      <td>5.1</td>\n",
       "      <td>1.9</td>\n",
       "    </tr>\n",
       "    <tr>\n",
       "      <th>143</th>\n",
       "      <td>5.9</td>\n",
       "      <td>2.3</td>\n",
       "    </tr>\n",
       "    <tr>\n",
       "      <th>144</th>\n",
       "      <td>5.7</td>\n",
       "      <td>2.5</td>\n",
       "    </tr>\n",
       "    <tr>\n",
       "      <th>145</th>\n",
       "      <td>5.2</td>\n",
       "      <td>2.3</td>\n",
       "    </tr>\n",
       "    <tr>\n",
       "      <th>146</th>\n",
       "      <td>5.0</td>\n",
       "      <td>1.9</td>\n",
       "    </tr>\n",
       "    <tr>\n",
       "      <th>147</th>\n",
       "      <td>5.2</td>\n",
       "      <td>2.0</td>\n",
       "    </tr>\n",
       "    <tr>\n",
       "      <th>148</th>\n",
       "      <td>5.4</td>\n",
       "      <td>2.3</td>\n",
       "    </tr>\n",
       "    <tr>\n",
       "      <th>149</th>\n",
       "      <td>5.1</td>\n",
       "      <td>1.8</td>\n",
       "    </tr>\n",
       "  </tbody>\n",
       "</table>\n",
       "</div>"
      ],
      "text/plain": [
       "     petal length (cm)  petal width (cm)\n",
       "130                6.1               1.9\n",
       "131                6.4               2.0\n",
       "132                5.6               2.2\n",
       "133                5.1               1.5\n",
       "134                5.6               1.4\n",
       "135                6.1               2.3\n",
       "136                5.6               2.4\n",
       "137                5.5               1.8\n",
       "138                4.8               1.8\n",
       "139                5.4               2.1\n",
       "140                5.6               2.4\n",
       "141                5.1               2.3\n",
       "142                5.1               1.9\n",
       "143                5.9               2.3\n",
       "144                5.7               2.5\n",
       "145                5.2               2.3\n",
       "146                5.0               1.9\n",
       "147                5.2               2.0\n",
       "148                5.4               2.3\n",
       "149                5.1               1.8"
      ]
     },
     "execution_count": 278,
     "metadata": {},
     "output_type": "execute_result"
    }
   ],
   "source": [
    "x_test[:20]"
   ]
  },
  {
   "cell_type": "code",
   "execution_count": 277,
   "metadata": {},
   "outputs": [
    {
     "data": {
      "text/plain": [
       "0.95"
      ]
     },
     "execution_count": 277,
     "metadata": {},
     "output_type": "execute_result"
    }
   ],
   "source": [
    "# 计算精确度\n",
    "knnclf.score(x_test[:20],y_test[:20])"
   ]
  },
  {
   "cell_type": "code",
   "execution_count": 190,
   "metadata": {},
   "outputs": [],
   "source": [
    "# 预测\n",
    "y_=knnclf.predict(x_test)"
   ]
  },
  {
   "cell_type": "code",
   "execution_count": 191,
   "metadata": {},
   "outputs": [
    {
     "data": {
      "text/plain": [
       "array([2, 2, 2, 2, 2, 2, 2, 2, 2, 2, 2, 2, 2, 2, 2, 2, 2, 2, 2, 2])"
      ]
     },
     "execution_count": 191,
     "metadata": {},
     "output_type": "execute_result"
    }
   ],
   "source": [
    "# 模型准确度的评估     y_test真实的鸢尾花分类\n",
    "y_test"
   ]
  },
  {
   "cell_type": "code",
   "execution_count": 192,
   "metadata": {},
   "outputs": [
    {
     "data": {
      "text/plain": [
       "array([2, 2, 2, 1, 2, 2, 2, 2, 2, 2, 2, 2, 2, 2, 2, 2, 2, 2, 2, 2])"
      ]
     },
     "execution_count": 192,
     "metadata": {},
     "output_type": "execute_result"
    }
   ],
   "source": [
    "# 预测的鸢尾花分类\n",
    "y_"
   ]
  },
  {
   "cell_type": "code",
   "execution_count": 238,
   "metadata": {},
   "outputs": [],
   "source": [
    "from matplotlib.colors import ListedColormap\n",
    "cmap=ListedColormap(['#FF0000','#00FF00','#0000FF'])"
   ]
  },
  {
   "cell_type": "code",
   "execution_count": 252,
   "metadata": {},
   "outputs": [
    {
     "data": {
      "text/plain": [
       "1.0"
      ]
     },
     "metadata": {},
     "output_type": "display_data"
    },
    {
     "data": {
      "text/plain": [
       "6.9"
      ]
     },
     "metadata": {},
     "output_type": "display_data"
    },
    {
     "data": {
      "text/plain": [
       "0.1"
      ]
     },
     "metadata": {},
     "output_type": "display_data"
    },
    {
     "data": {
      "text/plain": [
       "2.5"
      ]
     },
     "metadata": {},
     "output_type": "display_data"
    },
    {
     "data": {
      "text/plain": [
       "array([1.        , 1.05959596, 1.11919192, 1.17878788, 1.23838384,\n",
       "       1.2979798 , 1.35757576, 1.41717172, 1.47676768, 1.53636364,\n",
       "       1.5959596 , 1.65555556, 1.71515152, 1.77474747, 1.83434343,\n",
       "       1.89393939, 1.95353535, 2.01313131, 2.07272727, 2.13232323,\n",
       "       2.19191919, 2.25151515, 2.31111111, 2.37070707, 2.43030303,\n",
       "       2.48989899, 2.54949495, 2.60909091, 2.66868687, 2.72828283,\n",
       "       2.78787879, 2.84747475, 2.90707071, 2.96666667, 3.02626263,\n",
       "       3.08585859, 3.14545455, 3.20505051, 3.26464646, 3.32424242,\n",
       "       3.38383838, 3.44343434, 3.5030303 , 3.56262626, 3.62222222,\n",
       "       3.68181818, 3.74141414, 3.8010101 , 3.86060606, 3.92020202,\n",
       "       3.97979798, 4.03939394, 4.0989899 , 4.15858586, 4.21818182,\n",
       "       4.27777778, 4.33737374, 4.3969697 , 4.45656566, 4.51616162,\n",
       "       4.57575758, 4.63535354, 4.69494949, 4.75454545, 4.81414141,\n",
       "       4.87373737, 4.93333333, 4.99292929, 5.05252525, 5.11212121,\n",
       "       5.17171717, 5.23131313, 5.29090909, 5.35050505, 5.41010101,\n",
       "       5.46969697, 5.52929293, 5.58888889, 5.64848485, 5.70808081,\n",
       "       5.76767677, 5.82727273, 5.88686869, 5.94646465, 6.00606061,\n",
       "       6.06565657, 6.12525253, 6.18484848, 6.24444444, 6.3040404 ,\n",
       "       6.36363636, 6.42323232, 6.48282828, 6.54242424, 6.6020202 ,\n",
       "       6.66161616, 6.72121212, 6.78080808, 6.84040404, 6.9       ])"
      ]
     },
     "metadata": {},
     "output_type": "display_data"
    },
    {
     "data": {
      "text/plain": [
       "array([0.1       , 0.12424242, 0.14848485, 0.17272727, 0.1969697 ,\n",
       "       0.22121212, 0.24545455, 0.26969697, 0.29393939, 0.31818182,\n",
       "       0.34242424, 0.36666667, 0.39090909, 0.41515152, 0.43939394,\n",
       "       0.46363636, 0.48787879, 0.51212121, 0.53636364, 0.56060606,\n",
       "       0.58484848, 0.60909091, 0.63333333, 0.65757576, 0.68181818,\n",
       "       0.70606061, 0.73030303, 0.75454545, 0.77878788, 0.8030303 ,\n",
       "       0.82727273, 0.85151515, 0.87575758, 0.9       , 0.92424242,\n",
       "       0.94848485, 0.97272727, 0.9969697 , 1.02121212, 1.04545455,\n",
       "       1.06969697, 1.09393939, 1.11818182, 1.14242424, 1.16666667,\n",
       "       1.19090909, 1.21515152, 1.23939394, 1.26363636, 1.28787879,\n",
       "       1.31212121, 1.33636364, 1.36060606, 1.38484848, 1.40909091,\n",
       "       1.43333333, 1.45757576, 1.48181818, 1.50606061, 1.53030303,\n",
       "       1.55454545, 1.57878788, 1.6030303 , 1.62727273, 1.65151515,\n",
       "       1.67575758, 1.7       , 1.72424242, 1.74848485, 1.77272727,\n",
       "       1.7969697 , 1.82121212, 1.84545455, 1.86969697, 1.89393939,\n",
       "       1.91818182, 1.94242424, 1.96666667, 1.99090909, 2.01515152,\n",
       "       2.03939394, 2.06363636, 2.08787879, 2.11212121, 2.13636364,\n",
       "       2.16060606, 2.18484848, 2.20909091, 2.23333333, 2.25757576,\n",
       "       2.28181818, 2.30606061, 2.33030303, 2.35454545, 2.37878788,\n",
       "       2.4030303 , 2.42727273, 2.45151515, 2.47575758, 2.5       ])"
      ]
     },
     "metadata": {},
     "output_type": "display_data"
    },
    {
     "data": {
      "text/plain": [
       "array([[1.        , 1.05959596, 1.11919192, ..., 6.78080808, 6.84040404,\n",
       "        6.9       ],\n",
       "       [1.        , 1.05959596, 1.11919192, ..., 6.78080808, 6.84040404,\n",
       "        6.9       ],\n",
       "       [1.        , 1.05959596, 1.11919192, ..., 6.78080808, 6.84040404,\n",
       "        6.9       ],\n",
       "       ...,\n",
       "       [1.        , 1.05959596, 1.11919192, ..., 6.78080808, 6.84040404,\n",
       "        6.9       ],\n",
       "       [1.        , 1.05959596, 1.11919192, ..., 6.78080808, 6.84040404,\n",
       "        6.9       ],\n",
       "       [1.        , 1.05959596, 1.11919192, ..., 6.78080808, 6.84040404,\n",
       "        6.9       ]])"
      ]
     },
     "metadata": {},
     "output_type": "display_data"
    },
    {
     "data": {
      "text/plain": [
       "array([[0.1       , 0.1       , 0.1       , ..., 0.1       , 0.1       ,\n",
       "        0.1       ],\n",
       "       [0.12424242, 0.12424242, 0.12424242, ..., 0.12424242, 0.12424242,\n",
       "        0.12424242],\n",
       "       [0.14848485, 0.14848485, 0.14848485, ..., 0.14848485, 0.14848485,\n",
       "        0.14848485],\n",
       "       ...,\n",
       "       [2.45151515, 2.45151515, 2.45151515, ..., 2.45151515, 2.45151515,\n",
       "        2.45151515],\n",
       "       [2.47575758, 2.47575758, 2.47575758, ..., 2.47575758, 2.47575758,\n",
       "        2.47575758],\n",
       "       [2.5       , 2.5       , 2.5       , ..., 2.5       , 2.5       ,\n",
       "        2.5       ]])"
      ]
     },
     "metadata": {},
     "output_type": "display_data"
    },
    {
     "data": {
      "text/plain": [
       "array([[1.        , 0.1       ],\n",
       "       [1.05959596, 0.1       ],\n",
       "       [1.11919192, 0.1       ],\n",
       "       ...,\n",
       "       [6.78080808, 2.5       ],\n",
       "       [6.84040404, 2.5       ],\n",
       "       [6.9       , 2.5       ]])"
      ]
     },
     "metadata": {},
     "output_type": "display_data"
    },
    {
     "data": {
      "text/plain": [
       "(10000, 2)"
      ]
     },
     "metadata": {},
     "output_type": "display_data"
    }
   ],
   "source": [
    "# 花瓣的长度最小值到最大值范围\n",
    "xmin,xmax=samples.iloc[:,0].min(),samples.iloc[:,0].max()\n",
    "# 花瓣的宽度最小值到最大值范围\n",
    "ymin,ymax=samples.iloc[:,1].min(),samples.iloc[:,1].max()\n",
    "display(xmin,xmax,ymin,ymax)\n",
    "x=np.linspace(xmin,xmax,100)\n",
    "y=np.linspace(ymin,ymax,100)\n",
    "display(x,y)\n",
    "xx,yy=np.meshgrid(x,y)\n",
    "display(xx,yy)\n",
    "x_test=np.c_[xx.ravel(),yy.ravel()]\n",
    "display(x_test,x_test.shape)"
   ]
  },
  {
   "cell_type": "code",
   "execution_count": 246,
   "metadata": {},
   "outputs": [],
   "source": [
    "# 预测\n",
    "y_=knnclf.predict(x_test)"
   ]
  },
  {
   "cell_type": "code",
   "execution_count": 259,
   "metadata": {},
   "outputs": [
    {
     "data": {
      "text/plain": [
       "array([2, 2, 2, 2, 2, 2, 2, 2, 2, 2, 2, 2, 2, 2, 2, 2, 2, 2, 2, 2])"
      ]
     },
     "execution_count": 259,
     "metadata": {},
     "output_type": "execute_result"
    }
   ],
   "source": [
    "y_test"
   ]
  },
  {
   "cell_type": "code",
   "execution_count": 257,
   "metadata": {},
   "outputs": [
    {
     "data": {
      "text/plain": [
       "0.0"
      ]
     },
     "execution_count": 257,
     "metadata": {},
     "output_type": "execute_result"
    }
   ],
   "source": []
  },
  {
   "cell_type": "code",
   "execution_count": 254,
   "metadata": {},
   "outputs": [
    {
     "data": {
      "text/plain": [
       "<matplotlib.collections.PathCollection at 0x2190f5e9c88>"
      ]
     },
     "execution_count": 254,
     "metadata": {},
     "output_type": "execute_result"
    },
    {
     "data": {
      "image/png": "[encoded data removed]",
      "text/plain": [
       "<matplotlib.figure.Figure at 0x2190f588a58>"
      ]
     },
     "metadata": {},
     "output_type": "display_data"
    }
   ],
   "source": [
    "#绘制图形\n",
    "plt.scatter(x_test[:,0],x_test[:,1],c=y_,cmap=cmap)\n",
    "plt.scatter(samples.iloc[:,0],samples.iloc[:,1],c=target)"
   ]
  },
  {
   "cell_type": "code",
   "execution_count": null,
   "metadata": {},
   "outputs": [],
   "source": []
  }
 ],
 "metadata": {
  "kernelspec": {
   "display_name": "Python 3",
   "language": "python",
   "name": "python3"
  },
  "language_info": {
   "codemirror_mode": {
    "name": "ipython",
    "version": 3
   },
   "file_extension": ".py",
   "mimetype": "text/x-python",
   "name": "python",
   "nbconvert_exporter": "python",
   "pygments_lexer": "ipython3",
   "version": "3.6.4"
  }
 },
 "nbformat": 4,
 "nbformat_minor": 2
}
