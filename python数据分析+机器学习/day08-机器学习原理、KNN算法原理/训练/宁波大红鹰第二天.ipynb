{
 "cells": [
  {
   "cell_type": "code",
   "execution_count": 6,
   "metadata": {},
   "outputs": [],
   "source": [
    "# 导包\n",
    "from sklearn.neighbors import KNeighborsRegressor\n",
    "import numpy as np\n",
    "import matplotlib.pyplot as plt"
   ]
  },
  {
   "cell_type": "code",
   "execution_count": 53,
   "metadata": {},
   "outputs": [
    {
     "data": {
      "text/plain": [
       "array([-1.22464680e-16, -1.60411281e-01, -3.16667994e-01, -4.64723172e-01,\n",
       "       -6.00742264e-01, -7.21202447e-01, -8.22983866e-01, -9.03450435e-01,\n",
       "       -9.60518112e-01, -9.92708874e-01, -9.99188998e-01, -9.79790652e-01,\n",
       "       -9.35016243e-01, -8.66025404e-01, -7.74604962e-01, -6.63122658e-01,\n",
       "       -5.34465826e-01, -3.91966610e-01, -2.39315664e-01, -8.04665687e-02,\n",
       "        8.04665687e-02,  2.39315664e-01,  3.91966610e-01,  5.34465826e-01,\n",
       "        6.63122658e-01,  7.74604962e-01,  8.66025404e-01,  9.35016243e-01,\n",
       "        9.79790652e-01,  9.99188998e-01,  9.92708874e-01,  9.60518112e-01,\n",
       "        9.03450435e-01,  8.22983866e-01,  7.21202447e-01,  6.00742264e-01,\n",
       "        4.64723172e-01,  3.16667994e-01,  1.60411281e-01,  1.22464680e-16])"
      ]
     },
     "metadata": {},
     "output_type": "display_data"
    },
    {
     "data": {
      "text/plain": [
       "<matplotlib.collections.PathCollection at 0x1b089902f28>"
      ]
     },
     "execution_count": 53,
     "metadata": {},
     "output_type": "execute_result"
    },
    {
     "data": {
      "image/png": "[encoded data removed]",
      "text/plain": [
       "<matplotlib.figure.Figure at 0x1b0898f5f28>"
      ]
     },
     "metadata": {},
     "output_type": "display_data"
    }
   ],
   "source": [
    "# 生成样本数据\n",
    "x=np.linspace(-np.pi,np.pi,40)\n",
    "# display(x)\n",
    "y=np.sin(x)\n",
    "display(y)\n",
    "plt.scatter(x,y)"
   ]
  },
  {
   "cell_type": "code",
   "execution_count": 56,
   "metadata": {},
   "outputs": [],
   "source": [
    "# 增加噪音数据  [0,1)  [-0.5,0.5)\n",
    "noise=np.random.random(size=20)-0.5\n",
    "# noise"
   ]
  },
  {
   "cell_type": "code",
   "execution_count": 57,
   "metadata": {},
   "outputs": [],
   "source": [
    "# 将y中的40个值每隔一个数值加上噪音数据，也就是让奇数位随机的在-0.5到0.5之间浮动\n",
    "y[::2]+=noise"
   ]
  },
  {
   "cell_type": "code",
   "execution_count": 59,
   "metadata": {},
   "outputs": [
    {
     "data": {
      "text/plain": [
       "<matplotlib.collections.PathCollection at 0x1b089983780>"
      ]
     },
     "execution_count": 59,
     "metadata": {},
     "output_type": "execute_result"
    },
    {
     "data": {
      "image/png": "[encoded data removed]",
      "text/plain": [
       "<matplotlib.figure.Figure at 0x1b089877668>"
      ]
     },
     "metadata": {},
     "output_type": "display_data"
    }
   ],
   "source": [
    "plt.scatter(x,y)"
   ]
  },
  {
   "cell_type": "code",
   "execution_count": 61,
   "metadata": {},
   "outputs": [
    {
     "data": {
      "text/plain": [
       "array([[-3.14159265],\n",
       "       [-2.98048534],\n",
       "       [-2.81937802],\n",
       "       [-2.65827071],\n",
       "       [-2.49716339],\n",
       "       [-2.33605608],\n",
       "       [-2.17494876],\n",
       "       [-2.01384144],\n",
       "       [-1.85273413],\n",
       "       [-1.69162681],\n",
       "       [-1.5305195 ],\n",
       "       [-1.36941218],\n",
       "       [-1.20830487],\n",
       "       [-1.04719755],\n",
       "       [-0.88609024],\n",
       "       [-0.72498292],\n",
       "       [-0.5638756 ],\n",
       "       [-0.40276829],\n",
       "       [-0.24166097],\n",
       "       [-0.08055366],\n",
       "       [ 0.08055366],\n",
       "       [ 0.24166097],\n",
       "       [ 0.40276829],\n",
       "       [ 0.5638756 ],\n",
       "       [ 0.72498292],\n",
       "       [ 0.88609024],\n",
       "       [ 1.04719755],\n",
       "       [ 1.20830487],\n",
       "       [ 1.36941218],\n",
       "       [ 1.5305195 ],\n",
       "       [ 1.69162681],\n",
       "       [ 1.85273413],\n",
       "       [ 2.01384144],\n",
       "       [ 2.17494876],\n",
       "       [ 2.33605608],\n",
       "       [ 2.49716339],\n",
       "       [ 2.65827071],\n",
       "       [ 2.81937802],\n",
       "       [ 2.98048534],\n",
       "       [ 3.14159265]])"
      ]
     },
     "metadata": {},
     "output_type": "display_data"
    },
    {
     "data": {
      "text/plain": [
       "array([ 3.76189090e-01, -1.60411281e-01, -6.44470579e-01, -4.64723172e-01,\n",
       "       -2.86972772e-01, -7.21202447e-01, -1.24707377e+00, -9.03450435e-01,\n",
       "       -5.15476248e-01, -9.92708874e-01, -1.08229850e+00, -9.79790652e-01,\n",
       "       -8.95184556e-01, -8.66025404e-01, -6.25509002e-01, -6.63122658e-01,\n",
       "       -6.49815973e-01, -3.91966610e-01,  1.67776783e-01, -8.04665687e-02,\n",
       "        1.93692494e-01,  2.39315664e-01,  7.13693988e-01,  5.34465826e-01,\n",
       "        8.70750707e-01,  7.74604962e-01,  9.32024941e-01,  9.35016243e-01,\n",
       "        1.45372986e+00,  9.99188998e-01,  1.08989250e+00,  9.60518112e-01,\n",
       "        1.18437229e+00,  8.22983866e-01,  6.15203604e-01,  6.00742264e-01,\n",
       "        1.86077885e-01,  3.16667994e-01,  8.93986938e-02,  1.22464680e-16])"
      ]
     },
     "metadata": {},
     "output_type": "display_data"
    }
   ],
   "source": [
    "# 生成测试数据\n",
    "x_train=x.reshape(-1,1)\n",
    "y_train=y\n",
    "display(x_train,y)"
   ]
  },
  {
   "cell_type": "code",
   "execution_count": 62,
   "metadata": {},
   "outputs": [
    {
     "data": {
      "text/plain": [
       "KNeighborsRegressor(algorithm='auto', leaf_size=30, metric='minkowski',\n",
       "          metric_params=None, n_jobs=1, n_neighbors=7, p=2,\n",
       "          weights='uniform')"
      ]
     },
     "execution_count": 62,
     "metadata": {},
     "output_type": "execute_result"
    }
   ],
   "source": [
    "# 构建KNN对象   训练数据\n",
    "knn=KNeighborsRegressor(n_neighbors=7)\n",
    "knn.fit(x_train,y_train)"
   ]
  },
  {
   "cell_type": "code",
   "execution_count": 66,
   "metadata": {},
   "outputs": [],
   "source": [
    "# 测试数据\n",
    "x_test=np.linspace(-np.pi,np.pi,100).reshape(-1,1)\n",
    "x_test\n",
    "# 开始预测\n",
    "y_=knn.predict(x_test)"
   ]
  },
  {
   "cell_type": "code",
   "execution_count": 68,
   "metadata": {},
   "outputs": [
    {
     "data": {
      "text/plain": [
       "<matplotlib.collections.PathCollection at 0x1b089f195c0>"
      ]
     },
     "execution_count": 68,
     "metadata": {},
     "output_type": "execute_result"
    },
    {
     "data": {
      "image/png": "[encoded data removed]",
      "text/plain": [
       "<matplotlib.figure.Figure at 0x1b089f195f8>"
      ]
     },
     "metadata": {},
     "output_type": "display_data"
    }
   ],
   "source": [
    "plt.plot(x_test,y_,color=\"red\")\n",
    "plt.scatter(x_train,y_train,color=\"green\")"
   ]
  },
  {
   "cell_type": "code",
   "execution_count": null,
   "metadata": {},
   "outputs": [],
   "source": [
    "# 欠拟合  过拟合"
   ]
  },
  {
   "cell_type": "code",
   "execution_count": 69,
   "metadata": {},
   "outputs": [],
   "source": [
    "import numpy as np\n",
    "import operator"
   ]
  },
  {
   "cell_type": "code",
   "execution_count": null,
   "metadata": {},
   "outputs": [],
   "source": [
    "\"\"\"\n",
    "    函数说明：\n",
    "        通过输入一个人的三围特征，进行分类输出\n",
    "\"\"\"\n",
    "def classifyPer():\n",
    "#     输出结果\n",
    "    resultList=['讨厌','有点喜欢','非常喜欢']\n",
    "#     特征输入\n",
    "    precentTats=float(input(\"玩视频游戏所耗时间百分比:\"))\n",
    "    ffMiles=float(input(\"每年出行里程数:\"))\n",
    "    iceCream=float(input(\"每周消耗的冰淇淋升数:\"))\n",
    "    "
   ]
  },
  {
   "cell_type": "code",
   "execution_count": null,
   "metadata": {},
   "outputs": [],
   "source": [
    "if __name__ == '__main__':\n",
    "    classifyPer()"
   ]
  },
  {
   "cell_type": "code",
   "execution_count": null,
   "metadata": {},
   "outputs": [],
   "source": []
  }
 ],
 "metadata": {
  "kernelspec": {
   "display_name": "Python 3",
   "language": "python",
   "name": "python3"
  },
  "language_info": {
   "codemirror_mode": {
    "name": "ipython",
    "version": 3
   },
   "file_extension": ".py",
   "mimetype": "text/x-python",
   "name": "python",
   "nbconvert_exporter": "python",
   "pygments_lexer": "ipython3",
   "version": "3.6.4"
  }
 },
 "nbformat": 4,
 "nbformat_minor": 2
}
