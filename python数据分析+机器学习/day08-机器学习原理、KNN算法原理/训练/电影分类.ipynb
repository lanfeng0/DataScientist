{
 "cells": [
  {
   "cell_type": "code",
   "execution_count": 12,
   "metadata": {},
   "outputs": [
    {
     "name": "stdout",
     "output_type": "stream",
     "text": [
      "动作片\n"
     ]
    }
   ],
   "source": [
    "# -*- coding: UTF-8 -*-\n",
    "import numpy as np\n",
    "import operator\n",
    "import collections\n",
    "\n",
    "\"\"\"\n",
    "函数说明:创建数据集\n",
    "\n",
    "Parameters:\n",
    "\t无\n",
    "Returns:\n",
    "\tgroup - 数据集\n",
    "\tlabels - 分类标签\n",
    "Modify:\n",
    "\t2017-07-13\n",
    "\"\"\"\n",
    "def createDataSet():\n",
    "\t#四组二维特征\n",
    "\tgroup = np.array([[1,101],[5,89],[108,5],[115,8]])\n",
    "\t#四组特征的标签\n",
    "\tlabels = ['爱情片','爱情片','动作片','动作片']\n",
    "\treturn group, labels\n",
    "\n",
    "\"\"\"\n",
    "函数说明:kNN算法,分类器\n",
    "\n",
    "Parameters:\n",
    "\tinX - 用于分类的数据(测试集)\n",
    "\tdataSet - 用于训练的数据(训练集)\n",
    "\tlabes - 分类标签\n",
    "\tk - kNN算法参数,选择距离最小的k个点\n",
    "Returns:\n",
    "\tsortedClassCount[0][0] - 分类结果\n",
    "\n",
    "Modify:\n",
    "\t2017-11-09 by Cugtyt \n",
    "\t\t* GitHub(https://github.com/Cugtyt) \n",
    "\t\t* Email(cugtyt@qq.com)\n",
    "\t\tUse list comprehension and Counter to simplify code\n",
    "\t2017-07-13\n",
    "\"\"\"\n",
    "def classify0(inx, dataset, labels, k):\n",
    "\t# 计算距离\n",
    "\tdist = np.sum((inx - dataset)**2, axis=1)**0.5\n",
    "\t# k个最近的标签\n",
    "\tk_labels = [labels[index] for index in dist.argsort()[0 : k]]\n",
    "\t# 出现次数最多的标签即为最终类别\n",
    "\tlabel = collections.Counter(k_labels).most_common(1)[0][0]\n",
    "\treturn label\n",
    "\n",
    "if __name__ == '__main__':\n",
    "\t#创建数据集\n",
    "\tgroup, labels = createDataSet()\n",
    "\t#测试集\n",
    "\ttest = [101,20]\n",
    "\t#kNN分类\n",
    "\ttest_class = classify0(test, group, labels, 3)\n",
    "\t#打印分类结果\n",
    "\tprint(test_class)\n"
   ]
  },
  {
   "cell_type": "code",
   "execution_count": null,
   "metadata": {},
   "outputs": [],
   "source": []
  }
 ],
 "metadata": {
  "kernelspec": {
   "display_name": "Python 3",
   "language": "python",
   "name": "python3"
  },
  "language_info": {
   "codemirror_mode": {
    "name": "ipython",
    "version": 3
   },
   "file_extension": ".py",
   "mimetype": "text/x-python",
   "name": "python",
   "nbconvert_exporter": "python",
   "pygments_lexer": "ipython3",
   "version": "3.6.4"
  }
 },
 "nbformat": 4,
 "nbformat_minor": 2
}
