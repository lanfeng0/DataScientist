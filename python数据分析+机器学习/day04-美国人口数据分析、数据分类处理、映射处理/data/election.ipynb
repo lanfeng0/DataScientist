{
 "cells": [
  {
   "cell_type": "markdown",
   "metadata": {},
   "source": [
    "# 美国2012年总统候选人政治献金数据分析"
   ]
  },
  {
   "cell_type": "markdown",
   "metadata": {},
   "source": [
    "导入包"
   ]
  },
  {
   "cell_type": "markdown",
   "metadata": {},
   "source": [
    "方便大家操作，将月份和参选人以及所在政党进行定义"
   ]
  },
  {
   "cell_type": "code",
   "execution_count": 1,
   "metadata": {},
   "outputs": [],
   "source": [
    "months = {'JAN' : 1, 'FEB' : 2, 'MAR' : 3, 'APR' : 4, 'MAY' : 5, 'JUN' : 6,\n",
    "          'JUL' : 7, 'AUG' : 8, 'SEP' : 9, 'OCT': 10, 'NOV': 11, 'DEC' : 12}\n",
    "of_interest = ['Obama, Barack', 'Romney, Mitt', 'Santorum, Rick', \n",
    "               'Paul, Ron', 'Gingrich, Newt']\n",
    "parties = {\n",
    "  'Bachmann, Michelle': 'Republican',\n",
    "  'Romney, Mitt': 'Republican',\n",
    "  'Obama, Barack': 'Democrat',\n",
    "  \"Roemer, Charles E. 'Buddy' III\": 'Reform',\n",
    "  'Pawlenty, Timothy': 'Republican',\n",
    "  'Johnson, Gary Earl': 'Libertarian',\n",
    "  'Paul, Ron': 'Republican',\n",
    "  'Santorum, Rick': 'Republican',\n",
    "  'Cain, Herman': 'Republican',\n",
    "  'Gingrich, Newt': 'Republican',\n",
    "  'McCotter, Thaddeus G': 'Republican',\n",
    "  'Huntsman, Jon': 'Republican',\n",
    "  'Perry, Rick': 'Republican'           \n",
    " }"
   ]
  },
  {
   "cell_type": "markdown",
   "metadata": {},
   "source": [
    "读取文件"
   ]
  },
  {
   "cell_type": "markdown",
   "metadata": {},
   "source": [
    "查看文件样式以及基本信息"
   ]
  },
  {
   "cell_type": "markdown",
   "metadata": {},
   "source": [
    "【知识点】使用map函数+字典，新建一列各个候选人所在党派party"
   ]
  },
  {
   "cell_type": "markdown",
   "metadata": {},
   "source": [
    "查看单独一行，是否加上了'party'一列"
   ]
  },
  {
   "cell_type": "markdown",
   "metadata": {},
   "source": [
    "使用np.unique()函数查看colums：party这一列中有哪些元素"
   ]
  },
  {
   "cell_type": "markdown",
   "metadata": {},
   "source": [
    "使用value_counts()函数，统计party列中各个元素出现次数"
   ]
  },
  {
   "cell_type": "markdown",
   "metadata": {},
   "source": [
    "【知识点】使用groupby()函数，查看各个党派收到的政治献金总数contb_receipt_amt"
   ]
  },
  {
   "cell_type": "markdown",
   "metadata": {},
   "source": [
    "查看具体每天各个党派收到的政治献金总数contb_receipt_amt  \n",
    "使用groupby([多个分组参数])"
   ]
  },
  {
   "cell_type": "markdown",
   "metadata": {},
   "source": [
    "查看日期格式，并将其转换为Pandas的日期格式,通过函数加map方式进行转换"
   ]
  },
  {
   "cell_type": "markdown",
   "metadata": {},
   "source": [
    "查看是否转换成功"
   ]
  },
  {
   "cell_type": "markdown",
   "metadata": {},
   "source": [
    "将时间转换为时间数据类型  \n",
    "根据时间进行排序"
   ]
  },
  {
   "cell_type": "markdown",
   "metadata": {},
   "source": [
    "得到转换后的，每天各政党所收政治献金数目。  \n",
    "\n",
    "考察知识点：groupby（多个字段）"
   ]
  },
  {
   "cell_type": "markdown",
   "metadata": {},
   "source": [
    "【知识点】使用unstack()将上面所得数据中的party从一级索引变成列索引,unstack('party')"
   ]
  },
  {
   "cell_type": "markdown",
   "metadata": {},
   "source": [
    "使用上面获取的数据  \n",
    "画出各党派累计政治献金,cumsum()累加函数"
   ]
  },
  {
   "cell_type": "markdown",
   "metadata": {},
   "source": [
    "把时间作为列，党派作为行来观察,unstack('contb_receipt')"
   ]
  },
  {
   "cell_type": "markdown",
   "metadata": {},
   "source": [
    "使用stack()把party变成二级行索引,注意所有的值都不能为nan，需要填充为0"
   ]
  },
  {
   "cell_type": "markdown",
   "metadata": {},
   "source": [
    "查看候选人姓名cand_nm和政治献金捐献者职业contbr_occupation，以及捐献情况。能看出各个候选人主要的支持者分布情况  \n",
    "练习：groupy，sum()求和"
   ]
  },
  {
   "cell_type": "markdown",
   "metadata": {},
   "source": [
    "查看老兵主要支持谁：DISABLED VETERAN  \n",
    "考察Series索引"
   ]
  },
  {
   "cell_type": "markdown",
   "metadata": {},
   "source": [
    "把索引变成列,Series.reset_index()"
   ]
  },
  {
   "cell_type": "markdown",
   "metadata": {},
   "source": [
    "找出各个候选人的捐赠者中，捐赠金额最大的人的职业以及捐献额  \n",
    "\n",
    "通过query(\"查询条件来查找捐献人职业\")"
   ]
  },
  {
   "cell_type": "code",
   "execution_count": null,
   "metadata": {},
   "outputs": [],
   "source": []
  }
 ],
 "metadata": {
  "kernelspec": {
   "display_name": "Python 3",
   "language": "python",
   "name": "python3"
  },
  "language_info": {
   "codemirror_mode": {
    "name": "ipython",
    "version": 3
   },
   "file_extension": ".py",
   "mimetype": "text/x-python",
   "name": "python",
   "nbconvert_exporter": "python",
   "pygments_lexer": "ipython3",
   "version": "3.7.0"
  }
 },
 "nbformat": 4,
 "nbformat_minor": 2
}
